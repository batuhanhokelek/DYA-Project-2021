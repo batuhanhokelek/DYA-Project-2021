{
 "cells": [
  {
   "cell_type": "code",
   "execution_count": 8,
   "id": "b3360741",
   "metadata": {},
   "outputs": [],
   "source": [
    "# Paketler\n",
    "import pandas as pd\n",
    "import numpy as np\n",
    "#import missingno"
   ]
  },
  {
   "cell_type": "code",
   "execution_count": 5,
   "id": "2febed57",
   "metadata": {},
   "outputs": [],
   "source": [
    "# Veri seti\n",
    "url = '/home/sudenur/DYA-Project-2021/Veri/DYA_Updated_Data (1).xlsx'\n",
    "dya = pd.read_excel(url)"
   ]
  },
  {
   "cell_type": "code",
   "execution_count": 6,
   "id": "54907bf1",
   "metadata": {},
   "outputs": [],
   "source": [
    "# Rıza metninin çıkarılması\n",
    "dya.drop(dya.columns[-1], axis = 1, inplace = True)"
   ]
  },
  {
   "cell_type": "markdown",
   "id": "05346265",
   "metadata": {},
   "source": [
    "Eksik verinin çok olduğu bir veri seti olduğundan veri setini temizlemeye eksik veri analizi ile başlayabiliriz 👇"
   ]
  },
  {
   "cell_type": "markdown",
   "id": "5116b854",
   "metadata": {},
   "source": [
    "## Eksik Veri Analizi"
   ]
  },
  {
   "cell_type": "code",
   "execution_count": 49,
   "id": "b49e22a0",
   "metadata": {},
   "outputs": [
    {
     "data": {
      "text/plain": [
       "Unnamed: 0            1024\n",
       "Basvuru Yontemi       1024\n",
       "AdiSoyadi1            1024\n",
       "KimTakipEdiyor1       1024\n",
       "Telefon1              1024\n",
       "Alternatiftelefon1    1024\n",
       "TCKimlikNo1           1024\n",
       "AcikAdres1            1024\n",
       "AdSoyad2              1024\n",
       "AdSoyad3              1024\n",
       "AdSoyad4              1024\n",
       "cocukisim63           1024\n",
       "cocukisim73           1024\n",
       "cocukisim82           1024\n",
       "cocukisim91           1024\n",
       "cocukisim100          1024\n",
       "dtype: int64"
      ]
     },
     "execution_count": 49,
     "metadata": {},
     "output_type": "execute_result"
    }
   ],
   "source": [
    "# Tüm kolonları eksik olan değişkenler\n",
    "dya.isna().sum()[((dya.isna().sum() / len(dya)).sort_values(ascending = False)) == 1.0]"
   ]
  },
  {
   "cell_type": "code",
   "execution_count": 52,
   "id": "c1614ea9",
   "metadata": {},
   "outputs": [],
   "source": [
    "# Bu kolonları veri setinden çıkarma\n",
    "dya.drop(dya.isna().sum()[((dya.isna().sum() / len(dya)).sort_values(ascending = False)) == 1.0].index, axis = 1, inplace = True)"
   ]
  },
  {
   "cell_type": "code",
   "execution_count": 74,
   "id": "5715988a",
   "metadata": {},
   "outputs": [],
   "source": [
    "# Kolon isimlerindeki küçük büyük uyumsuzluğunu giderme ve boşlukları kaldırma\n",
    "dya.columns = pd.Series(dya.columns).apply(lambda x: str(x).lower().replace(' ', '')).values"
   ]
  },
  {
   "cell_type": "code",
   "execution_count": 84,
   "id": "a4e6dc92",
   "metadata": {},
   "outputs": [],
   "source": [
    "# nan olarak girilmiş verilere NaN ile değiştirme\n",
    "dya.replace('nan', np.nan, inplace = True)"
   ]
  },
  {
   "cell_type": "markdown",
   "id": "caadbdef",
   "metadata": {},
   "source": [
    "## Değişkenler Analizi"
   ]
  },
  {
   "cell_type": "markdown",
   "id": "becbfc6b",
   "metadata": {},
   "source": [
    "### Doğum yılı"
   ]
  },
  {
   "cell_type": "code",
   "execution_count": 79,
   "id": "ec0a5a15",
   "metadata": {},
   "outputs": [
    {
     "data": {
      "text/plain": [
       "0       1998.0\n",
       "1       1996.0\n",
       "2       1978.0\n",
       "3       1979.0\n",
       "4       1977.0\n",
       "         ...  \n",
       "1019    1995.0\n",
       "1020    1970.0\n",
       "1021    1976.0\n",
       "1022    1999.0\n",
       "1023    2001.0\n",
       "Name: dogumyili1, Length: 1024, dtype: float64"
      ]
     },
     "execution_count": 79,
     "metadata": {},
     "output_type": "execute_result"
    }
   ],
   "source": [
    "# Doğum yılı analizi\n",
    "dya[dya.columns[0]]"
   ]
  },
  {
   "cell_type": "markdown",
   "id": "8593038b",
   "metadata": {},
   "source": [
    "Herhangi bir sorun bulunmuyor 👍"
   ]
  },
  {
   "cell_type": "code",
   "execution_count": 92,
   "id": "49eeb9c8",
   "metadata": {},
   "outputs": [
    {
     "data": {
      "text/plain": [
       "Kagit ve Diger Geri Donusum Urunleri Toplayici                 139\n",
       "Kagit, Hurda, Plastik Toplayici                                115\n",
       "Muzisyen                                                        71\n",
       "Ev Temizligi - GundelikCi - TemizlikCi                          36\n",
       "Tekstil IsCisi                                                  28\n",
       "                                                              ... \n",
       "Garson-Mutfak Elemani, Otelde                                    1\n",
       "Tekstil IsCisi, konfeksiyon isCisi                               1\n",
       "Kagit ve Diger Geri Donusum Urunleri Toplayici, bakim emegi      1\n",
       "Garson-Mutfak Elemani, 2400                                      1\n",
       "Kalem, selpak satiyor bankalar caddesinde                        1\n",
       "Name: varsameslegi1, Length: 227, dtype: int64"
      ]
     },
     "execution_count": 92,
     "metadata": {},
     "output_type": "execute_result"
    }
   ],
   "source": [
    "# Eğitim durumu \n",
    "dya[dya.columns[2]].value_counts()"
   ]
  }
 ],
 "metadata": {
  "kernelspec": {
   "display_name": "Python 3",
   "language": "python",
   "name": "python3"
  },
  "language_info": {
   "codemirror_mode": {
    "name": "ipython",
    "version": 3
   },
   "file_extension": ".py",
   "mimetype": "text/x-python",
   "name": "python",
   "nbconvert_exporter": "python",
   "pygments_lexer": "ipython3",
   "version": "3.8.8"
  }
 },
 "nbformat": 4,
 "nbformat_minor": 5
}
