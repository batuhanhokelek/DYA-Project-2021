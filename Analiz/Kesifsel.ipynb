{
 "cells": [
  {
   "cell_type": "code",
   "execution_count": 12,
   "id": "547f2f2d",
   "metadata": {},
   "outputs": [],
   "source": [
    "import numpy as np\n",
    "import pandas as pd\n",
    "import seaborn as sns\n",
    "import matplotlib.pyplot as plt\n"
   ]
  },
  {
   "cell_type": "code",
   "execution_count": 37,
   "id": "5ce5fbde",
   "metadata": {},
   "outputs": [],
   "source": [
    "data = pd.read_excel(r\"C:\\Users\\orcun.kasap\\Downloads\\DYA_Updated_Data (4).xlsx\")"
   ]
  },
  {
   "cell_type": "code",
   "execution_count": 28,
   "id": "7298e2ef",
   "metadata": {},
   "outputs": [
    {
     "data": {
      "text/html": [
       "<div>\n",
       "<style scoped>\n",
       "    .dataframe tbody tr th:only-of-type {\n",
       "        vertical-align: middle;\n",
       "    }\n",
       "\n",
       "    .dataframe tbody tr th {\n",
       "        vertical-align: top;\n",
       "    }\n",
       "\n",
       "    .dataframe thead th {\n",
       "        text-align: right;\n",
       "    }\n",
       "</style>\n",
       "<table border=\"1\" class=\"dataframe\">\n",
       "  <thead>\n",
       "    <tr style=\"text-align: right;\">\n",
       "      <th></th>\n",
       "      <th>Unnamed: 0</th>\n",
       "      <th>Basvuru Yontemi</th>\n",
       "      <th>AdiSoyadi1</th>\n",
       "      <th>KimTakipEdiyor1</th>\n",
       "      <th>Telefon1</th>\n",
       "      <th>Alternatiftelefon1</th>\n",
       "      <th>TCKimlikNo1</th>\n",
       "      <th>Dogumyili1</th>\n",
       "      <th>Egitimdurumu1</th>\n",
       "      <th>VarsaMeslegi1</th>\n",
       "      <th>...</th>\n",
       "      <th>krediborcu</th>\n",
       "      <th>borc</th>\n",
       "      <th>coviddurumu</th>\n",
       "      <th>asi</th>\n",
       "      <th>sagliksigortasi</th>\n",
       "      <th>yonlendirmeyapildimi</th>\n",
       "      <th>ozeldurum</th>\n",
       "      <th>haneyeiliskinonemlinotlar</th>\n",
       "      <th>kitapkampanyasi</th>\n",
       "      <th>Yukarida yapilan aCiklamalar CerCevesinde; isbu bilgilendirme ve izin formunu, okuyup, anladigimi ve bu sekilde alinan asagidaki beyanimin oldugunu kabul ediyorum. 6698 sayili Kisisel Verilerin Korunmasi Kanunu’na uygun olarak kisisel ve/veya ozel nitelikli kisisel verilerimin; tamamen veya kismen elde edilmesi, kaydedilmesi, depolanmasi, degistirilmesi, guncellenmesi, periyodik olarak kontrol edilmesi, yeniden duzenlenmesi, siniflandirilmasi, islendikleri amaC iCin gerekli olan ya da ilgili kanunda ongorulen sure kadar muhafaza edilmesi, kanuni ya da hizmete bagli fiili gereklilikler halinde sivil toplum kurulusunuzun birlikte Calistigi ya da kanunen yukumlu oldugu kamu kurum ve kuruluslariyla ve/veya Turkiye’de veya yurt disinda mukim olan 3. kisi destekCiler ile paylasilmasi da dâhil olmak uzere yukarida belirtilen aCiklamalar kapsaminda islenmesine, konu hakkinda tereddudeyer vermeyecek sekilde bilgi sahibi ve aydinlatilmis olarak aCik rizam ile onay veriyorum.</th>\n",
       "    </tr>\n",
       "  </thead>\n",
       "  <tbody>\n",
       "    <tr>\n",
       "      <th>0</th>\n",
       "      <td>NaN</td>\n",
       "      <td>NaN</td>\n",
       "      <td>NaN</td>\n",
       "      <td>NaN</td>\n",
       "      <td>NaN</td>\n",
       "      <td>NaN</td>\n",
       "      <td>NaN</td>\n",
       "      <td>1998.0</td>\n",
       "      <td>Lise Mezunu</td>\n",
       "      <td>Tekstil IsCisi, utucu</td>\n",
       "      <td>...</td>\n",
       "      <td>NaN</td>\n",
       "      <td>NaN</td>\n",
       "      <td>Hayir</td>\n",
       "      <td>kaydi olmadigi iCin asi olmadi, imkani varsa o...</td>\n",
       "      <td>NaN</td>\n",
       "      <td>Yapilmadi</td>\n",
       "      <td>NaN</td>\n",
       "      <td>Cift Afganistandan 2020 de geldi, tekstilde Ca...</td>\n",
       "      <td>NaN</td>\n",
       "      <td>Okudugumu anladim, onayliyorum.</td>\n",
       "    </tr>\n",
       "    <tr>\n",
       "      <th>1</th>\n",
       "      <td>NaN</td>\n",
       "      <td>NaN</td>\n",
       "      <td>NaN</td>\n",
       "      <td>NaN</td>\n",
       "      <td>NaN</td>\n",
       "      <td>NaN</td>\n",
       "      <td>NaN</td>\n",
       "      <td>1996.0</td>\n",
       "      <td>Okur yazar, Ortaokul Mezunu</td>\n",
       "      <td>Kagit ve Diger Geri Donusum Urunleri Toplayici...</td>\n",
       "      <td>...</td>\n",
       "      <td>Evet</td>\n",
       "      <td>10 bin tl</td>\n",
       "      <td>Bir kere geCirdi</td>\n",
       "      <td>Oldu</td>\n",
       "      <td>HiCbir saglik sigortasi yok</td>\n",
       "      <td>SYDV</td>\n",
       "      <td>NaN</td>\n",
       "      <td>NaN</td>\n",
       "      <td>NaN</td>\n",
       "      <td>Okudugumu anladim, onayliyorum.</td>\n",
       "    </tr>\n",
       "    <tr>\n",
       "      <th>2</th>\n",
       "      <td>NaN</td>\n",
       "      <td>NaN</td>\n",
       "      <td>NaN</td>\n",
       "      <td>NaN</td>\n",
       "      <td>NaN</td>\n",
       "      <td>NaN</td>\n",
       "      <td>NaN</td>\n",
       "      <td>1978.0</td>\n",
       "      <td>Ilkokul terk</td>\n",
       "      <td>NaN</td>\n",
       "      <td>...</td>\n",
       "      <td>Evet</td>\n",
       "      <td>8bin</td>\n",
       "      <td>Hayir</td>\n",
       "      <td>Oldu</td>\n",
       "      <td>Yesil kart</td>\n",
       "      <td>NaN</td>\n",
       "      <td>kanser tedavisi gordugu iCin bakima ihtiyaci var</td>\n",
       "      <td>televizyon ve Cek-yat, yatak, baza acil ihtiya...</td>\n",
       "      <td>ACev Okuyan Bir Gelecek (3-7 yas)</td>\n",
       "      <td>Okudugumu anladim, onayliyorum.</td>\n",
       "    </tr>\n",
       "    <tr>\n",
       "      <th>3</th>\n",
       "      <td>NaN</td>\n",
       "      <td>NaN</td>\n",
       "      <td>NaN</td>\n",
       "      <td>NaN</td>\n",
       "      <td>NaN</td>\n",
       "      <td>NaN</td>\n",
       "      <td>NaN</td>\n",
       "      <td>1979.0</td>\n",
       "      <td>Ilkokul</td>\n",
       "      <td>IsCi / Fabrika isCisi, kapi kollari</td>\n",
       "      <td>...</td>\n",
       "      <td>NaN</td>\n",
       "      <td>NaN</td>\n",
       "      <td>NaN</td>\n",
       "      <td>NaN</td>\n",
       "      <td>NaN</td>\n",
       "      <td>NaN</td>\n",
       "      <td>NaN</td>\n",
       "      <td>kuCuk oglu veteriner olmak istiyor. kuslari ha...</td>\n",
       "      <td>NaN</td>\n",
       "      <td>Okudugumu anladim, onaylamiyorum.</td>\n",
       "    </tr>\n",
       "    <tr>\n",
       "      <th>4</th>\n",
       "      <td>NaN</td>\n",
       "      <td>NaN</td>\n",
       "      <td>NaN</td>\n",
       "      <td>NaN</td>\n",
       "      <td>NaN</td>\n",
       "      <td>NaN</td>\n",
       "      <td>NaN</td>\n",
       "      <td>1977.0</td>\n",
       "      <td>Ortaokul Mezunu</td>\n",
       "      <td>NaN</td>\n",
       "      <td>...</td>\n",
       "      <td>NaN</td>\n",
       "      <td>NaN</td>\n",
       "      <td>Bir kere geCirdi</td>\n",
       "      <td>Henuz olmadi ama olacak</td>\n",
       "      <td>SGK</td>\n",
       "      <td>NaN</td>\n",
       "      <td>NaN</td>\n",
       "      <td>Ikamet izni kapsaminda saglik sigortasi kullan...</td>\n",
       "      <td>ACev Okuyan Bir Gelecek (3-7 yas)</td>\n",
       "      <td>Okudugumu anladim, onayliyorum.</td>\n",
       "    </tr>\n",
       "  </tbody>\n",
       "</table>\n",
       "<p>5 rows × 129 columns</p>\n",
       "</div>"
      ],
      "text/plain": [
       "   Unnamed: 0  Basvuru Yontemi  AdiSoyadi1  KimTakipEdiyor1  Telefon1  \\\n",
       "0         NaN              NaN         NaN              NaN       NaN   \n",
       "1         NaN              NaN         NaN              NaN       NaN   \n",
       "2         NaN              NaN         NaN              NaN       NaN   \n",
       "3         NaN              NaN         NaN              NaN       NaN   \n",
       "4         NaN              NaN         NaN              NaN       NaN   \n",
       "\n",
       "   Alternatiftelefon1  TCKimlikNo1  Dogumyili1                Egitimdurumu1  \\\n",
       "0                 NaN          NaN      1998.0                  Lise Mezunu   \n",
       "1                 NaN          NaN      1996.0  Okur yazar, Ortaokul Mezunu   \n",
       "2                 NaN          NaN      1978.0                 Ilkokul terk   \n",
       "3                 NaN          NaN      1979.0                      Ilkokul   \n",
       "4                 NaN          NaN      1977.0              Ortaokul Mezunu   \n",
       "\n",
       "                                       VarsaMeslegi1  ... krediborcu  \\\n",
       "0                              Tekstil IsCisi, utucu  ...        NaN   \n",
       "1  Kagit ve Diger Geri Donusum Urunleri Toplayici...  ...       Evet   \n",
       "2                                                NaN  ...       Evet   \n",
       "3                IsCi / Fabrika isCisi, kapi kollari  ...        NaN   \n",
       "4                                                NaN  ...        NaN   \n",
       "\n",
       "        borc       coviddurumu  \\\n",
       "0        NaN             Hayir   \n",
       "1  10 bin tl  Bir kere geCirdi   \n",
       "2       8bin             Hayir   \n",
       "3        NaN               NaN   \n",
       "4        NaN  Bir kere geCirdi   \n",
       "\n",
       "                                                 asi  \\\n",
       "0  kaydi olmadigi iCin asi olmadi, imkani varsa o...   \n",
       "1                                               Oldu   \n",
       "2                                               Oldu   \n",
       "3                                                NaN   \n",
       "4                            Henuz olmadi ama olacak   \n",
       "\n",
       "               sagliksigortasi yonlendirmeyapildimi  \\\n",
       "0                          NaN            Yapilmadi   \n",
       "1  HiCbir saglik sigortasi yok                 SYDV   \n",
       "2                   Yesil kart                  NaN   \n",
       "3                          NaN                  NaN   \n",
       "4                          SGK                  NaN   \n",
       "\n",
       "                                          ozeldurum  \\\n",
       "0                                               NaN   \n",
       "1                                               NaN   \n",
       "2  kanser tedavisi gordugu iCin bakima ihtiyaci var   \n",
       "3                                               NaN   \n",
       "4                                               NaN   \n",
       "\n",
       "                           haneyeiliskinonemlinotlar  \\\n",
       "0  Cift Afganistandan 2020 de geldi, tekstilde Ca...   \n",
       "1                                                NaN   \n",
       "2  televizyon ve Cek-yat, yatak, baza acil ihtiya...   \n",
       "3  kuCuk oglu veteriner olmak istiyor. kuslari ha...   \n",
       "4  Ikamet izni kapsaminda saglik sigortasi kullan...   \n",
       "\n",
       "                     kitapkampanyasi  \\\n",
       "0                                NaN   \n",
       "1                                NaN   \n",
       "2  ACev Okuyan Bir Gelecek (3-7 yas)   \n",
       "3                                NaN   \n",
       "4  ACev Okuyan Bir Gelecek (3-7 yas)   \n",
       "\n",
       "  Yukarida yapilan aCiklamalar CerCevesinde; isbu bilgilendirme ve izin formunu, okuyup, anladigimi ve bu sekilde alinan asagidaki beyanimin oldugunu kabul ediyorum. 6698 sayili Kisisel Verilerin Korunmasi Kanunu’na uygun olarak kisisel ve/veya ozel nitelikli kisisel verilerimin; tamamen veya kismen elde edilmesi, kaydedilmesi, depolanmasi, degistirilmesi, guncellenmesi, periyodik olarak kontrol edilmesi, yeniden duzenlenmesi, siniflandirilmasi, islendikleri amaC iCin gerekli olan ya da ilgili kanunda ongorulen sure kadar muhafaza edilmesi, kanuni ya da hizmete bagli fiili gereklilikler halinde sivil toplum kurulusunuzun birlikte Calistigi ya da kanunen yukumlu oldugu kamu kurum ve kuruluslariyla ve/veya Turkiye’de veya yurt disinda mukim olan 3. kisi destekCiler ile paylasilmasi da dâhil olmak uzere yukarida belirtilen aCiklamalar kapsaminda islenmesine, konu hakkinda tereddudeyer vermeyecek sekilde bilgi sahibi ve aydinlatilmis olarak aCik rizam ile onay veriyorum.  \n",
       "0                    Okudugumu anladim, onayliyorum.                                                                                                                                                                                                                                                                                                                                                                                                                                                                                                                                                                                                                                                                                                                                                                                                                                                                                                                                                                   \n",
       "1                    Okudugumu anladim, onayliyorum.                                                                                                                                                                                                                                                                                                                                                                                                                                                                                                                                                                                                                                                                                                                                                                                                                                                                                                                                                                   \n",
       "2                    Okudugumu anladim, onayliyorum.                                                                                                                                                                                                                                                                                                                                                                                                                                                                                                                                                                                                                                                                                                                                                                                                                                                                                                                                                                   \n",
       "3                  Okudugumu anladim, onaylamiyorum.                                                                                                                                                                                                                                                                                                                                                                                                                                                                                                                                                                                                                                                                                                                                                                                                                                                                                                                                                                   \n",
       "4                    Okudugumu anladim, onayliyorum.                                                                                                                                                                                                                                                                                                                                                                                                                                                                                                                                                                                                                                                                                                                                                                                                                                                                                                                                                                   \n",
       "\n",
       "[5 rows x 129 columns]"
      ]
     },
     "execution_count": 28,
     "metadata": {},
     "output_type": "execute_result"
    }
   ],
   "source": [
    "data.head()"
   ]
  },
  {
   "cell_type": "code",
   "execution_count": 41,
   "id": "b64b955f",
   "metadata": {},
   "outputs": [
    {
     "data": {
      "text/plain": [
       "<bound method DataFrame.info of       Unnamed: 0  Basvuru Yontemi  AdiSoyadi1  KimTakipEdiyor1  Telefon1  \\\n",
       "0            NaN              NaN         NaN              NaN       NaN   \n",
       "1            NaN              NaN         NaN              NaN       NaN   \n",
       "2            NaN              NaN         NaN              NaN       NaN   \n",
       "3            NaN              NaN         NaN              NaN       NaN   \n",
       "4            NaN              NaN         NaN              NaN       NaN   \n",
       "...          ...              ...         ...              ...       ...   \n",
       "1019         NaN              NaN         NaN              NaN       NaN   \n",
       "1020         NaN              NaN         NaN              NaN       NaN   \n",
       "1021         NaN              NaN         NaN              NaN       NaN   \n",
       "1022         NaN              NaN         NaN              NaN       NaN   \n",
       "1023         NaN              NaN         NaN              NaN       NaN   \n",
       "\n",
       "      Alternatiftelefon1  TCKimlikNo1 Dogumyili1                Egitimdurumu1  \\\n",
       "0                    NaN          NaN     1998.0                  Lise Mezunu   \n",
       "1                    NaN          NaN     1996.0  Okur yazar, Ortaokul Mezunu   \n",
       "2                    NaN          NaN     1978.0                 Ilkokul terk   \n",
       "3                    NaN          NaN     1979.0                      Ilkokul   \n",
       "4                    NaN          NaN     1977.0              Ortaokul Mezunu   \n",
       "...                  ...          ...        ...                          ...   \n",
       "1019                 NaN          NaN     1995.0               Ilkokul Mezunu   \n",
       "1020                 NaN          NaN     1970.0         Okur yazar, Ortaokul   \n",
       "1021                 NaN          NaN     1976.0             Okur yazar degil   \n",
       "1022                 NaN          NaN     1999.0             Okur yazar degil   \n",
       "1023                 NaN          NaN     2001.0             Okur yazar degil   \n",
       "\n",
       "                                          VarsaMeslegi1  ... krediborcu  \\\n",
       "0                                 Tekstil IsCisi, utucu  ...        NaN   \n",
       "1     Kagit ve Diger Geri Donusum Urunleri Toplayici...  ...       Evet   \n",
       "2                                                   NaN  ...       Evet   \n",
       "3                   IsCi / Fabrika isCisi, kapi kollari  ...        NaN   \n",
       "4                                                   NaN  ...        NaN   \n",
       "...                                                 ...  ...        ...   \n",
       "1019  Yevmiyeli isCilik, evde temizleme- evde utu paket  ...      Hayir   \n",
       "1020                              IsCi / Fabrika isCisi  ...        NaN   \n",
       "1021          Kalem, selpak satiyor bankalar caddesinde  ...        NaN   \n",
       "1022                    Kagit, Hurda, Plastik Toplayici  ...        NaN   \n",
       "1023     Kagit ve Diger Geri Donusum Urunleri Toplayici  ...       Evet   \n",
       "\n",
       "                          borc       coviddurumu  \\\n",
       "0                          NaN             Hayir   \n",
       "1                    10 bin tl  Bir kere geCirdi   \n",
       "2                         8bin             Hayir   \n",
       "3                          NaN               NaN   \n",
       "4                          NaN  Bir kere geCirdi   \n",
       "...                        ...               ...   \n",
       "1019                       NaN             Hayir   \n",
       "1020                       NaN               NaN   \n",
       "1021                       NaN               NaN   \n",
       "1022                       NaN               NaN   \n",
       "1023  5.000tl pandemide Cekmis  Bir kere geCirdi   \n",
       "\n",
       "                                                    asi  \\\n",
       "0     kaydi olmadigi iCin asi olmadi, imkani varsa o...   \n",
       "1                                                  Oldu   \n",
       "2                                                  Oldu   \n",
       "3                                                   NaN   \n",
       "4                               Henuz olmadi ama olacak   \n",
       "...                                                 ...   \n",
       "1019                                               Oldu   \n",
       "1020                                                NaN   \n",
       "1021                                                NaN   \n",
       "1022                                                NaN   \n",
       "1023                            Henuz olmadi ama olacak   \n",
       "\n",
       "                  sagliksigortasi yonlendirmeyapildimi  \\\n",
       "0                             NaN            Yapilmadi   \n",
       "1     HiCbir saglik sigortasi yok                 SYDV   \n",
       "2                      Yesil kart                  NaN   \n",
       "3                             NaN                  NaN   \n",
       "4                             SGK                  NaN   \n",
       "...                           ...                  ...   \n",
       "1019                   Yesil kart        IlCe belediye   \n",
       "1020                          NaN                  NaN   \n",
       "1021                          NaN                  NaN   \n",
       "1022                          NaN                  NaN   \n",
       "1023                   Yesil kart                  NaN   \n",
       "\n",
       "                                             ozeldurum  \\\n",
       "0                                                  NaN   \n",
       "1                                                  NaN   \n",
       "2     kanser tedavisi gordugu iCin bakima ihtiyaci var   \n",
       "3                                                  NaN   \n",
       "4                                                  NaN   \n",
       "...                                                ...   \n",
       "1019                                      Yalniz kadin   \n",
       "1020                                               NaN   \n",
       "1021                                               NaN   \n",
       "1022                                               NaN   \n",
       "1023                                               NaN   \n",
       "\n",
       "                              haneyeiliskinonemlinotlar  \\\n",
       "0     Cift Afganistandan 2020 de geldi, tekstilde Ca...   \n",
       "1                                                   NaN   \n",
       "2     televizyon ve Cek-yat, yatak, baza acil ihtiya...   \n",
       "3     kuCuk oglu veteriner olmak istiyor. kuslari ha...   \n",
       "4     Ikamet izni kapsaminda saglik sigortasi kullan...   \n",
       "...                                                 ...   \n",
       "1019  Esinden ayrilmak istiyor ama Cocuklarini sosya...   \n",
       "1020  hane sayisi 2, 24 yas kiz ile birlikte yasiyor...   \n",
       "1021                         Esi muzisyen, vefat etmis.   \n",
       "1022  esi bazen Calisiyor Calismiyor iCki iCiyor asi...   \n",
       "1023  Hane sayisi 4, kendisi esi ve 2 Cocugu ile yas...   \n",
       "\n",
       "                        kitapkampanyasi  \\\n",
       "0                                   NaN   \n",
       "1                                   NaN   \n",
       "2     ACev Okuyan Bir Gelecek (3-7 yas)   \n",
       "3                                   NaN   \n",
       "4     ACev Okuyan Bir Gelecek (3-7 yas)   \n",
       "...                                 ...   \n",
       "1019  ACev Okuyan Bir Gelecek (3-7 yas)   \n",
       "1020                                NaN   \n",
       "1021                                NaN   \n",
       "1022                                NaN   \n",
       "1023  ACev Okuyan Bir Gelecek (3-7 yas)   \n",
       "\n",
       "     Yukarida yapilan aCiklamalar CerCevesinde; isbu bilgilendirme ve izin formunu, okuyup, anladigimi ve bu sekilde alinan asagidaki beyanimin oldugunu kabul ediyorum. 6698 sayili Kisisel Verilerin Korunmasi Kanunu’na uygun olarak kisisel ve/veya ozel nitelikli kisisel verilerimin; tamamen veya kismen elde edilmesi, kaydedilmesi, depolanmasi, degistirilmesi, guncellenmesi, periyodik olarak kontrol edilmesi, yeniden duzenlenmesi, siniflandirilmasi, islendikleri amaC iCin gerekli olan ya da ilgili kanunda ongorulen sure kadar muhafaza edilmesi, kanuni ya da hizmete bagli fiili gereklilikler halinde sivil toplum kurulusunuzun birlikte Calistigi ya da kanunen yukumlu oldugu kamu kurum ve kuruluslariyla ve/veya Turkiye’de veya yurt disinda mukim olan 3. kisi destekCiler ile paylasilmasi da dâhil olmak uzere yukarida belirtilen aCiklamalar kapsaminda islenmesine, konu hakkinda tereddudeyer vermeyecek sekilde bilgi sahibi ve aydinlatilmis olarak aCik rizam ile onay veriyorum.  \n",
       "0                       Okudugumu anladim, onayliyorum.                                                                                                                                                                                                                                                                                                                                                                                                                                                                                                                                                                                                                                                                                                                                                                                                                                                                                                                                                                   \n",
       "1                       Okudugumu anladim, onayliyorum.                                                                                                                                                                                                                                                                                                                                                                                                                                                                                                                                                                                                                                                                                                                                                                                                                                                                                                                                                                   \n",
       "2                       Okudugumu anladim, onayliyorum.                                                                                                                                                                                                                                                                                                                                                                                                                                                                                                                                                                                                                                                                                                                                                                                                                                                                                                                                                                   \n",
       "3                     Okudugumu anladim, onaylamiyorum.                                                                                                                                                                                                                                                                                                                                                                                                                                                                                                                                                                                                                                                                                                                                                                                                                                                                                                                                                                   \n",
       "4                       Okudugumu anladim, onayliyorum.                                                                                                                                                                                                                                                                                                                                                                                                                                                                                                                                                                                                                                                                                                                                                                                                                                                                                                                                                                   \n",
       "...                                                 ...                                                                                                                                                                                                                                                                                                                                                                                                                                                                                                                                                                                                                                                                                                                                                                                                                                                                                                                                                                   \n",
       "1019                    Okudugumu anladim, onayliyorum.                                                                                                                                                                                                                                                                                                                                                                                                                                                                                                                                                                                                                                                                                                                                                                                                                                                                                                                                                                   \n",
       "1020                    Okudugumu anladim, onayliyorum.                                                                                                                                                                                                                                                                                                                                                                                                                                                                                                                                                                                                                                                                                                                                                                                                                                                                                                                                                                   \n",
       "1021                    Okudugumu anladim, onayliyorum.                                                                                                                                                                                                                                                                                                                                                                                                                                                                                                                                                                                                                                                                                                                                                                                                                                                                                                                                                                   \n",
       "1022                    Okudugumu anladim, onayliyorum.                                                                                                                                                                                                                                                                                                                                                                                                                                                                                                                                                                                                                                                                                                                                                                                                                                                                                                                                                                   \n",
       "1023                    Okudugumu anladim, onayliyorum.                                                                                                                                                                                                                                                                                                                                                                                                                                                                                                                                                                                                                                                                                                                                                                                                                                                                                                                                                                   \n",
       "\n",
       "[1024 rows x 129 columns]>"
      ]
     },
     "execution_count": 41,
     "metadata": {},
     "output_type": "execute_result"
    }
   ],
   "source": [
    "data.info\n",
    "\n"
   ]
  },
  {
   "cell_type": "code",
   "execution_count": 4,
   "id": "8347ba1f",
   "metadata": {},
   "outputs": [
    {
     "data": {
      "text/html": [
       "<div>\n",
       "<style scoped>\n",
       "    .dataframe tbody tr th:only-of-type {\n",
       "        vertical-align: middle;\n",
       "    }\n",
       "\n",
       "    .dataframe tbody tr th {\n",
       "        vertical-align: top;\n",
       "    }\n",
       "\n",
       "    .dataframe thead th {\n",
       "        text-align: right;\n",
       "    }\n",
       "</style>\n",
       "<table border=\"1\" class=\"dataframe\">\n",
       "  <thead>\n",
       "    <tr style=\"text-align: right;\">\n",
       "      <th></th>\n",
       "      <th>Unnamed: 0</th>\n",
       "      <th>Basvuru Yontemi</th>\n",
       "      <th>AdiSoyadi1</th>\n",
       "      <th>KimTakipEdiyor1</th>\n",
       "      <th>Telefon1</th>\n",
       "      <th>Alternatiftelefon1</th>\n",
       "      <th>TCKimlikNo1</th>\n",
       "      <th>Dogumyili1</th>\n",
       "      <th>AcikAdres1</th>\n",
       "      <th>Hanenufusu1</th>\n",
       "      <th>AdSoyad2</th>\n",
       "      <th>AdSoyad3</th>\n",
       "      <th>AdSoyad4</th>\n",
       "      <th>cocukisim63</th>\n",
       "      <th>cocukisim73</th>\n",
       "      <th>cocukisim82</th>\n",
       "      <th>cocukisim91</th>\n",
       "      <th>dogumyili92</th>\n",
       "      <th>cocukisim100</th>\n",
       "      <th>kacincisinif103</th>\n",
       "    </tr>\n",
       "  </thead>\n",
       "  <tbody>\n",
       "    <tr>\n",
       "      <th>count</th>\n",
       "      <td>0.0</td>\n",
       "      <td>0.0</td>\n",
       "      <td>0.0</td>\n",
       "      <td>0.0</td>\n",
       "      <td>0.0</td>\n",
       "      <td>0.0</td>\n",
       "      <td>0.0</td>\n",
       "      <td>845.000000</td>\n",
       "      <td>0.0</td>\n",
       "      <td>931.000000</td>\n",
       "      <td>0.0</td>\n",
       "      <td>0.0</td>\n",
       "      <td>0.0</td>\n",
       "      <td>0.0</td>\n",
       "      <td>0.0</td>\n",
       "      <td>0.0</td>\n",
       "      <td>0.0</td>\n",
       "      <td>62.000000</td>\n",
       "      <td>0.0</td>\n",
       "      <td>4.00</td>\n",
       "    </tr>\n",
       "    <tr>\n",
       "      <th>mean</th>\n",
       "      <td>NaN</td>\n",
       "      <td>NaN</td>\n",
       "      <td>NaN</td>\n",
       "      <td>NaN</td>\n",
       "      <td>NaN</td>\n",
       "      <td>NaN</td>\n",
       "      <td>NaN</td>\n",
       "      <td>1984.491124</td>\n",
       "      <td>NaN</td>\n",
       "      <td>4.415682</td>\n",
       "      <td>NaN</td>\n",
       "      <td>NaN</td>\n",
       "      <td>NaN</td>\n",
       "      <td>NaN</td>\n",
       "      <td>NaN</td>\n",
       "      <td>NaN</td>\n",
       "      <td>NaN</td>\n",
       "      <td>2014.645161</td>\n",
       "      <td>NaN</td>\n",
       "      <td>2.25</td>\n",
       "    </tr>\n",
       "    <tr>\n",
       "      <th>std</th>\n",
       "      <td>NaN</td>\n",
       "      <td>NaN</td>\n",
       "      <td>NaN</td>\n",
       "      <td>NaN</td>\n",
       "      <td>NaN</td>\n",
       "      <td>NaN</td>\n",
       "      <td>NaN</td>\n",
       "      <td>11.655663</td>\n",
       "      <td>NaN</td>\n",
       "      <td>1.804454</td>\n",
       "      <td>NaN</td>\n",
       "      <td>NaN</td>\n",
       "      <td>NaN</td>\n",
       "      <td>NaN</td>\n",
       "      <td>NaN</td>\n",
       "      <td>NaN</td>\n",
       "      <td>NaN</td>\n",
       "      <td>4.811519</td>\n",
       "      <td>NaN</td>\n",
       "      <td>0.50</td>\n",
       "    </tr>\n",
       "    <tr>\n",
       "      <th>min</th>\n",
       "      <td>NaN</td>\n",
       "      <td>NaN</td>\n",
       "      <td>NaN</td>\n",
       "      <td>NaN</td>\n",
       "      <td>NaN</td>\n",
       "      <td>NaN</td>\n",
       "      <td>NaN</td>\n",
       "      <td>1947.000000</td>\n",
       "      <td>NaN</td>\n",
       "      <td>1.000000</td>\n",
       "      <td>NaN</td>\n",
       "      <td>NaN</td>\n",
       "      <td>NaN</td>\n",
       "      <td>NaN</td>\n",
       "      <td>NaN</td>\n",
       "      <td>NaN</td>\n",
       "      <td>NaN</td>\n",
       "      <td>2004.000000</td>\n",
       "      <td>NaN</td>\n",
       "      <td>2.00</td>\n",
       "    </tr>\n",
       "    <tr>\n",
       "      <th>25%</th>\n",
       "      <td>NaN</td>\n",
       "      <td>NaN</td>\n",
       "      <td>NaN</td>\n",
       "      <td>NaN</td>\n",
       "      <td>NaN</td>\n",
       "      <td>NaN</td>\n",
       "      <td>NaN</td>\n",
       "      <td>1977.000000</td>\n",
       "      <td>NaN</td>\n",
       "      <td>3.000000</td>\n",
       "      <td>NaN</td>\n",
       "      <td>NaN</td>\n",
       "      <td>NaN</td>\n",
       "      <td>NaN</td>\n",
       "      <td>NaN</td>\n",
       "      <td>NaN</td>\n",
       "      <td>NaN</td>\n",
       "      <td>2012.000000</td>\n",
       "      <td>NaN</td>\n",
       "      <td>2.00</td>\n",
       "    </tr>\n",
       "    <tr>\n",
       "      <th>50%</th>\n",
       "      <td>NaN</td>\n",
       "      <td>NaN</td>\n",
       "      <td>NaN</td>\n",
       "      <td>NaN</td>\n",
       "      <td>NaN</td>\n",
       "      <td>NaN</td>\n",
       "      <td>NaN</td>\n",
       "      <td>1986.000000</td>\n",
       "      <td>NaN</td>\n",
       "      <td>4.000000</td>\n",
       "      <td>NaN</td>\n",
       "      <td>NaN</td>\n",
       "      <td>NaN</td>\n",
       "      <td>NaN</td>\n",
       "      <td>NaN</td>\n",
       "      <td>NaN</td>\n",
       "      <td>NaN</td>\n",
       "      <td>2015.000000</td>\n",
       "      <td>NaN</td>\n",
       "      <td>2.00</td>\n",
       "    </tr>\n",
       "    <tr>\n",
       "      <th>75%</th>\n",
       "      <td>NaN</td>\n",
       "      <td>NaN</td>\n",
       "      <td>NaN</td>\n",
       "      <td>NaN</td>\n",
       "      <td>NaN</td>\n",
       "      <td>NaN</td>\n",
       "      <td>NaN</td>\n",
       "      <td>1993.000000</td>\n",
       "      <td>NaN</td>\n",
       "      <td>5.000000</td>\n",
       "      <td>NaN</td>\n",
       "      <td>NaN</td>\n",
       "      <td>NaN</td>\n",
       "      <td>NaN</td>\n",
       "      <td>NaN</td>\n",
       "      <td>NaN</td>\n",
       "      <td>NaN</td>\n",
       "      <td>2019.000000</td>\n",
       "      <td>NaN</td>\n",
       "      <td>2.25</td>\n",
       "    </tr>\n",
       "    <tr>\n",
       "      <th>max</th>\n",
       "      <td>NaN</td>\n",
       "      <td>NaN</td>\n",
       "      <td>NaN</td>\n",
       "      <td>NaN</td>\n",
       "      <td>NaN</td>\n",
       "      <td>NaN</td>\n",
       "      <td>NaN</td>\n",
       "      <td>2004.000000</td>\n",
       "      <td>NaN</td>\n",
       "      <td>20.000000</td>\n",
       "      <td>NaN</td>\n",
       "      <td>NaN</td>\n",
       "      <td>NaN</td>\n",
       "      <td>NaN</td>\n",
       "      <td>NaN</td>\n",
       "      <td>NaN</td>\n",
       "      <td>NaN</td>\n",
       "      <td>2021.000000</td>\n",
       "      <td>NaN</td>\n",
       "      <td>3.00</td>\n",
       "    </tr>\n",
       "  </tbody>\n",
       "</table>\n",
       "</div>"
      ],
      "text/plain": [
       "       Unnamed: 0  Basvuru Yontemi  AdiSoyadi1  KimTakipEdiyor1  Telefon1  \\\n",
       "count         0.0              0.0         0.0              0.0       0.0   \n",
       "mean          NaN              NaN         NaN              NaN       NaN   \n",
       "std           NaN              NaN         NaN              NaN       NaN   \n",
       "min           NaN              NaN         NaN              NaN       NaN   \n",
       "25%           NaN              NaN         NaN              NaN       NaN   \n",
       "50%           NaN              NaN         NaN              NaN       NaN   \n",
       "75%           NaN              NaN         NaN              NaN       NaN   \n",
       "max           NaN              NaN         NaN              NaN       NaN   \n",
       "\n",
       "       Alternatiftelefon1  TCKimlikNo1   Dogumyili1  AcikAdres1  Hanenufusu1  \\\n",
       "count                 0.0          0.0   845.000000         0.0   931.000000   \n",
       "mean                  NaN          NaN  1984.491124         NaN     4.415682   \n",
       "std                   NaN          NaN    11.655663         NaN     1.804454   \n",
       "min                   NaN          NaN  1947.000000         NaN     1.000000   \n",
       "25%                   NaN          NaN  1977.000000         NaN     3.000000   \n",
       "50%                   NaN          NaN  1986.000000         NaN     4.000000   \n",
       "75%                   NaN          NaN  1993.000000         NaN     5.000000   \n",
       "max                   NaN          NaN  2004.000000         NaN    20.000000   \n",
       "\n",
       "       AdSoyad2  AdSoyad3  AdSoyad4  cocukisim63   cocukisim73  cocukisim82  \\\n",
       "count       0.0       0.0       0.0           0.0          0.0          0.0   \n",
       "mean        NaN       NaN       NaN           NaN          NaN          NaN   \n",
       "std         NaN       NaN       NaN           NaN          NaN          NaN   \n",
       "min         NaN       NaN       NaN           NaN          NaN          NaN   \n",
       "25%         NaN       NaN       NaN           NaN          NaN          NaN   \n",
       "50%         NaN       NaN       NaN           NaN          NaN          NaN   \n",
       "75%         NaN       NaN       NaN           NaN          NaN          NaN   \n",
       "max         NaN       NaN       NaN           NaN          NaN          NaN   \n",
       "\n",
       "       cocukisim91  dogumyili92  cocukisim100  kacincisinif103  \n",
       "count          0.0    62.000000           0.0             4.00  \n",
       "mean           NaN  2014.645161           NaN             2.25  \n",
       "std            NaN     4.811519           NaN             0.50  \n",
       "min            NaN  2004.000000           NaN             2.00  \n",
       "25%            NaN  2012.000000           NaN             2.00  \n",
       "50%            NaN  2015.000000           NaN             2.00  \n",
       "75%            NaN  2019.000000           NaN             2.25  \n",
       "max            NaN  2021.000000           NaN             3.00  "
      ]
     },
     "execution_count": 4,
     "metadata": {},
     "output_type": "execute_result"
    }
   ],
   "source": [
    "data.describe()"
   ]
  },
  {
   "cell_type": "code",
   "execution_count": 44,
   "id": "488b4d0e",
   "metadata": {},
   "outputs": [
    {
     "data": {
      "text/plain": [
       "Unnamed: 0                                                                                                                                                                                                                                                                                                                                                                                                                                                                                                                                                                                                                                                                                                                                                                                                                                                                                                                                                                                                             float64\n",
       "Basvuru Yontemi                                                                                                                                                                                                                                                                                                                                                                                                                                                                                                                                                                                                                                                                                                                                                                                                                                                                                                                                                                                                        float64\n",
       "AdiSoyadi1                                                                                                                                                                                                                                                                                                                                                                                                                                                                                                                                                                                                                                                                                                                                                                                                                                                                                                                                                                                                             float64\n",
       "KimTakipEdiyor1                                                                                                                                                                                                                                                                                                                                                                                                                                                                                                                                                                                                                                                                                                                                                                                                                                                                                                                                                                                                        float64\n",
       "Telefon1                                                                                                                                                                                                                                                                                                                                                                                                                                                                                                                                                                                                                                                                                                                                                                                                                                                                                                                                                                                                               float64\n",
       "                                                                                                                                                                                                                                                                                                                                                                                                                                                                                                                                                                                                                                                                                                                                                                                                                                                                                                                                                                                                                        ...   \n",
       "yonlendirmeyapildimi                                                                                                                                                                                                                                                                                                                                                                                                                                                                                                                                                                                                                                                                                                                                                                                                                                                                                                                                                                                                    object\n",
       "ozeldurum                                                                                                                                                                                                                                                                                                                                                                                                                                                                                                                                                                                                                                                                                                                                                                                                                                                                                                                                                                                                               object\n",
       "haneyeiliskinonemlinotlar                                                                                                                                                                                                                                                                                                                                                                                                                                                                                                                                                                                                                                                                                                                                                                                                                                                                                                                                                                                               object\n",
       "kitapkampanyasi                                                                                                                                                                                                                                                                                                                                                                                                                                                                                                                                                                                                                                                                                                                                                                                                                                                                                                                                                                                                         object\n",
       "Yukarida yapilan aCiklamalar CerCevesinde; isbu bilgilendirme ve izin formunu, okuyup, anladigimi ve bu sekilde alinan asagidaki beyanimin oldugunu kabul ediyorum. 6698 sayili Kisisel Verilerin Korunmasi Kanunu’na uygun olarak kisisel ve/veya ozel nitelikli kisisel verilerimin; tamamen veya kismen elde edilmesi, kaydedilmesi, depolanmasi, degistirilmesi, guncellenmesi, periyodik olarak kontrol edilmesi, yeniden duzenlenmesi, siniflandirilmasi, islendikleri amaC iCin gerekli olan ya da ilgili kanunda ongorulen sure kadar muhafaza edilmesi, kanuni ya da hizmete bagli fiili gereklilikler halinde sivil toplum kurulusunuzun birlikte Calistigi ya da kanunen yukumlu oldugu kamu kurum ve kuruluslariyla ve/veya Turkiye’de veya yurt disinda mukim olan 3. kisi destekCiler ile paylasilmasi da dâhil olmak uzere yukarida belirtilen aCiklamalar kapsaminda islenmesine, konu hakkinda tereddudeyer vermeyecek sekilde bilgi sahibi ve aydinlatilmis olarak aCik rizam ile onay veriyorum.     object\n",
       "Length: 129, dtype: object"
      ]
     },
     "execution_count": 44,
     "metadata": {},
     "output_type": "execute_result"
    }
   ],
   "source": [
    "data.dtypes\n"
   ]
  },
  {
   "cell_type": "code",
   "execution_count": 45,
   "id": "6f3363fa",
   "metadata": {},
   "outputs": [
    {
     "data": {
      "text/plain": [
       "Unnamed: 0                                                                                                                                                                                                                                                                                                                                                                                                                                                                                                                                                                                                                                                                                                                                                                                                                                                                                                                                                                                                             1024\n",
       "Basvuru Yontemi                                                                                                                                                                                                                                                                                                                                                                                                                                                                                                                                                                                                                                                                                                                                                                                                                                                                                                                                                                                                        1024\n",
       "AdiSoyadi1                                                                                                                                                                                                                                                                                                                                                                                                                                                                                                                                                                                                                                                                                                                                                                                                                                                                                                                                                                                                             1024\n",
       "KimTakipEdiyor1                                                                                                                                                                                                                                                                                                                                                                                                                                                                                                                                                                                                                                                                                                                                                                                                                                                                                                                                                                                                        1024\n",
       "Telefon1                                                                                                                                                                                                                                                                                                                                                                                                                                                                                                                                                                                                                                                                                                                                                                                                                                                                                                                                                                                                               1024\n",
       "                                                                                                                                                                                                                                                                                                                                                                                                                                                                                                                                                                                                                                                                                                                                                                                                                                                                                                                                                                                                                       ... \n",
       "yonlendirmeyapildimi                                                                                                                                                                                                                                                                                                                                                                                                                                                                                                                                                                                                                                                                                                                                                                                                                                                                                                                                                                                                    839\n",
       "ozeldurum                                                                                                                                                                                                                                                                                                                                                                                                                                                                                                                                                                                                                                                                                                                                                                                                                                                                                                                                                                                                               897\n",
       "haneyeiliskinonemlinotlar                                                                                                                                                                                                                                                                                                                                                                                                                                                                                                                                                                                                                                                                                                                                                                                                                                                                                                                                                                                               155\n",
       "kitapkampanyasi                                                                                                                                                                                                                                                                                                                                                                                                                                                                                                                                                                                                                                                                                                                                                                                                                                                                                                                                                                                                         720\n",
       "Yukarida yapilan aCiklamalar CerCevesinde; isbu bilgilendirme ve izin formunu, okuyup, anladigimi ve bu sekilde alinan asagidaki beyanimin oldugunu kabul ediyorum. 6698 sayili Kisisel Verilerin Korunmasi Kanunu’na uygun olarak kisisel ve/veya ozel nitelikli kisisel verilerimin; tamamen veya kismen elde edilmesi, kaydedilmesi, depolanmasi, degistirilmesi, guncellenmesi, periyodik olarak kontrol edilmesi, yeniden duzenlenmesi, siniflandirilmasi, islendikleri amaC iCin gerekli olan ya da ilgili kanunda ongorulen sure kadar muhafaza edilmesi, kanuni ya da hizmete bagli fiili gereklilikler halinde sivil toplum kurulusunuzun birlikte Calistigi ya da kanunen yukumlu oldugu kamu kurum ve kuruluslariyla ve/veya Turkiye’de veya yurt disinda mukim olan 3. kisi destekCiler ile paylasilmasi da dâhil olmak uzere yukarida belirtilen aCiklamalar kapsaminda islenmesine, konu hakkinda tereddudeyer vermeyecek sekilde bilgi sahibi ve aydinlatilmis olarak aCik rizam ile onay veriyorum.     226\n",
       "Length: 129, dtype: int64"
      ]
     },
     "execution_count": 45,
     "metadata": {},
     "output_type": "execute_result"
    }
   ],
   "source": [
    "data.isna().sum()"
   ]
  },
  {
   "cell_type": "code",
   "execution_count": 47,
   "id": "f217cb7a",
   "metadata": {},
   "outputs": [
    {
     "data": {
      "text/plain": [
       "13"
      ]
     },
     "execution_count": 47,
     "metadata": {},
     "output_type": "execute_result"
    }
   ],
   "source": [
    "data.duplicated().sum()"
   ]
  },
  {
   "cell_type": "code",
   "execution_count": 11,
   "id": "b8d286ed",
   "metadata": {},
   "outputs": [
    {
     "data": {
      "text/plain": [
       "15"
      ]
     },
     "execution_count": 11,
     "metadata": {},
     "output_type": "execute_result"
    }
   ],
   "source": [
    "data.Mahalle1.isna().sum()"
   ]
  },
  {
   "cell_type": "code",
   "execution_count": 50,
   "id": "e0272bfc",
   "metadata": {},
   "outputs": [
    {
     "data": {
      "text/plain": [
       "1024"
      ]
     },
     "execution_count": 50,
     "metadata": {},
     "output_type": "execute_result"
    }
   ],
   "source": [
    "data.AdSoyad3.isna().sum()"
   ]
  },
  {
   "cell_type": "code",
   "execution_count": 51,
   "id": "dfb8413c",
   "metadata": {},
   "outputs": [
    {
     "data": {
      "text/plain": [
       "93"
      ]
     },
     "execution_count": 51,
     "metadata": {},
     "output_type": "execute_result"
    }
   ],
   "source": [
    "data.Hanenufusu1.isna().sum()"
   ]
  },
  {
   "cell_type": "code",
   "execution_count": 107,
   "id": "972a5a1e",
   "metadata": {},
   "outputs": [
    {
     "data": {
      "text/plain": [
       "20.0"
      ]
     },
     "execution_count": 107,
     "metadata": {},
     "output_type": "execute_result"
    }
   ],
   "source": [
    "data.Hanenufusu1.max()"
   ]
  },
  {
   "cell_type": "code",
   "execution_count": 73,
   "id": "99022291",
   "metadata": {},
   "outputs": [
    {
     "data": {
      "text/plain": [
       "<bound method NDFrame._add_numeric_operations.<locals>.max of 0       2\n",
       "1       6\n",
       "2       4\n",
       "3       4\n",
       "4       9\n",
       "       ..\n",
       "1019    4\n",
       "1020    2\n",
       "1021    6\n",
       "1022    4\n",
       "1023    4\n",
       "Name: Hanenufusu1, Length: 1024, dtype: object>"
      ]
     },
     "execution_count": 73,
     "metadata": {},
     "output_type": "execute_result"
    }
   ],
   "source": [
    "data.iloc[:,25].max"
   ]
  },
  {
   "cell_type": "code",
   "execution_count": 6,
   "id": "5fb0590f",
   "metadata": {},
   "outputs": [
    {
     "name": "stdout",
     "output_type": "stream",
     "text": [
      "Unnamed: 0               NaN\n",
      "Basvuru Yontemi          NaN\n",
      "AdiSoyadi1               NaN\n",
      "KimTakipEdiyor1          NaN\n",
      "Telefon1                 NaN\n",
      "Alternatiftelefon1       NaN\n",
      "TCKimlikNo1              NaN\n",
      "Dogumyili1            2004.0\n",
      "AcikAdres1               NaN\n",
      "Hanenufusu1             20.0\n",
      "AdSoyad2                 NaN\n",
      "AdSoyad3                 NaN\n",
      "AdSoyad4                 NaN\n",
      "cocukisim63              NaN\n",
      "cocukisim73              NaN\n",
      "cocukisim82              NaN\n",
      "cocukisim91              NaN\n",
      "dogumyili92           2021.0\n",
      "cocukisim100             NaN\n",
      "kacincisinif103          3.0\n",
      "dtype: float64\n"
     ]
    },
    {
     "name": "stderr",
     "output_type": "stream",
     "text": [
      "<ipython-input-6-cc5207838a65>:1: FutureWarning: Dropping of nuisance columns in DataFrame reductions (with 'numeric_only=None') is deprecated; in a future version this will raise TypeError.  Select only valid columns before calling the reduction.\n",
      "  maxValues = data.max()\n"
     ]
    }
   ],
   "source": [
    "maxValues = data.max()\n",
    " \n",
    "print(maxValues)"
   ]
  },
  {
   "cell_type": "code",
   "execution_count": 10,
   "id": "b8f61cfe",
   "metadata": {},
   "outputs": [
    {
     "data": {
      "text/plain": [
       "173"
      ]
     },
     "execution_count": 10,
     "metadata": {},
     "output_type": "execute_result"
    }
   ],
   "source": [
    "data.Dogumyili1.isna().sum()"
   ]
  },
  {
   "cell_type": "code",
   "execution_count": 34,
   "id": "e4f9d5c2",
   "metadata": {},
   "outputs": [
    {
     "data": {
      "text/plain": [
       "array([1998., 1996., 1978., 1979., 1977., 1990., 1983., 1986., 1983.,\n",
       "       1998., 1990., 2001., 1996., 1992., 1994., 1974., 1996., 2002.,\n",
       "       1986., 2000., 1985., 1990., 2003., 1982., 2000., 1996., 1999.,\n",
       "       1984., 1979., 1959., 1990., 1953., 1988., 1991., 1998., 1981.,\n",
       "       1998., 1986., 1999., 1975., 1995., 1989., 1984., 1997., 1997.,\n",
       "       1958., 1988., 1994., 1976., 1977., 1981., 1992., 1983., 1998.,\n",
       "       1987., 1952., 1990., 1992., 1991., 1998., 1978., 1994., 1988.,\n",
       "       1992., 1984., 1955., 1997., 1983., 2000., 2003., 1998., 1951.,\n",
       "       1991., 1994., 1988., 1969., 1993., 1990., 2000., 1985., 1961.,\n",
       "       2002., 1973., 1990., 1989., 2004., 1980., 1973., 1992., 2000.,\n",
       "       1989., 1994., 1981., 1978., 1963., 1979., 1968., 1994., 1984.,\n",
       "       2003., 1993., 1993., 1974., 1994., 1984., 1995., 1965., 1963.,\n",
       "       1991., 1959., 1994., 1986., 1976., 1994., 1973., 1989., 2000.,\n",
       "       1991., 1993., 1985., 1994., 1993., 1999., 2001., 2001., 1985.,\n",
       "       1998., 1990., 1998., 2004., 1983., 1982., 1974., 1997., 1997.,\n",
       "       1993., 1993., 2000., 1991., 1990., 1993., 1974., 1993., 1991.,\n",
       "       1956., 1996., 1981., 1975., 1986., 2002., 1953., 1986., 1989.,\n",
       "       1970., 1995., 1997., 1986., 1986., 1981., 1995., 1999., 1997.,\n",
       "       1974., 1982., 1996., 1983., 1955., 2003., 1960., 1980., 1981.,\n",
       "       1988., 1979., 1983., 1991., 1997., 1988., 2003., 1986., 1990.,\n",
       "       1970., 1993., 1988., 1998., 1998., 1978., 1999., 1971., 1980.,\n",
       "       1979., 1994., 1995., 1999., 1988., 1991., 1989., 1977., 1966.,\n",
       "       1998., 1998., 1966., 1984., 1994., 1998., 1973., 1968., 1990.,\n",
       "       1994., 1989., 1977., 1994., 1999., 1976., 1973., 1973., 1983.,\n",
       "       1974., 1985., 1979., 1986., 1971., 1970., 1980., 1985., 1978.,\n",
       "       1988., 1993., 1978., 1975., 1982., 1990., 1971., 1989., 1972.,\n",
       "       1985., 1992., 1983., 1992., 1975., 1986., 1980., 1977., 1981.,\n",
       "       1990., 1968., 1971., 1987., 1989., 1978., 1998., 1985., 1975.,\n",
       "       2001., 2002., 1976., 1992., 1986., 1995., 1984., 1995., 1996.,\n",
       "       2002., 1971., 1980., 1994., 1995., 2003., 1992., 1975., 1953.,\n",
       "       1999., 1960., 1969., 1994., 1998., 2003., 1991., 2003., 1990.,\n",
       "       1958., 1961., 1981., 1979., 2002., 1970., 1993., 1986., 1986.,\n",
       "       1991., 1978., 1990., 1983., 1994., 1982., 1982., 1979., 1980.,\n",
       "       1974., 1993., 1996., 1991., 1991., 1987., 1997., 1988., 1996.,\n",
       "       1973., 1974., 1982., 1989., 1991., 1976., 1990., 1998., 1993.,\n",
       "       1979., 1987., 2000., 1995., 1980., 1995., 1995., 2000., 1998.,\n",
       "       1975., 1998., 1999., 1992., 1993., 1996., 1990., 1996., 1964.,\n",
       "       2000., 1989., 1995., 1994., 2000., 1995., 1978., 1973., 1986.,\n",
       "       1984., 1994., 2003., 1990., 1985., 1986., 1977., 1959., 1966.,\n",
       "       1992., 1996., 1963., 1971., 1972., 1983., 2000., 1983., 1983.,\n",
       "       1988., 1978., 1983., 1980., 1985., 1985., 1990., 1995., 1993.,\n",
       "       1994., 2002., 1996., 1996., 1976., 1987., 1986., 1959., 1968.,\n",
       "       1984., 1990., 1986., 1984., 1966., 1987., 1982., 1982., 1984.,\n",
       "       1981., 1972., 1988., 1994., 1998., 1997., 2004., 2002., 1995.,\n",
       "       1999., 1984., 1993., 1992., 1982., 1968., 1990., 1994., 1994.,\n",
       "       1992., 1990., 1963., 1986., 1990., 1974., 1991., 1996., 1984.,\n",
       "       1987., 2001., 1978., 1985., 1961., 1994., 1984., 1986., 1976.,\n",
       "       1980., 1988., 1995., 1949., 1985., 1984., 1991., 1968., 1960.,\n",
       "       1972., 1996., 1985., 2001., 1967., 1992., 1998., 1981., 1982.,\n",
       "       1979., 1971., 1967., 1987., 1978., 1956., 1978., 1985., 1999.,\n",
       "       2003., 1977., 1952., 2002., 1957., 1959., 1976., 1979., 1952.,\n",
       "       1987., 1969., 1995., 1976., 1987., 2003., 1979., 1996., 1966.,\n",
       "       1998., 1953., 1982., 1974., 1975., 1970., 1979., 1991., 1992.,\n",
       "       1989., 1970., 1991., 1972., 1960., 1968., 1982., 1988., 1992.,\n",
       "       1989., 1976., 1993., 1980., 1981., 1982., 1973., 2001., 2001.,\n",
       "       1987., 1999., 1969., 1995., 1997., 1999., 1968., 1969., 1974.,\n",
       "       1979., 1997., 1970., 1981., 1993., 1966., 1972., 1980., 1985.,\n",
       "       1970., 1988., 1979., 1993., 1977., 1984., 1984., 1987., 1988.,\n",
       "       1987., 1976., 1977., 1980., 1956., 1985., 1987., 1987., 1988.,\n",
       "       1988., 1985., 1964., 1968., 1989., 1970., 1982., 1975., 2002.,\n",
       "       1988., 1987., 1998., 1996., 2004., 2002., 1992., 1982., 1947.,\n",
       "       2004., 1969., 1965., 1962., 1971., 1992., 1991., 1968., 1966.,\n",
       "       1970., 1977., 1983., 1986., 1984., 1971., 1974., 1975., 1975.,\n",
       "       1982., 1992., 1973., 1983., 1974., 1999., 1987., 1983., 1990.,\n",
       "       1991., 1974., 1988., 1985., 1993., 1980., 2002., 1978., 1969.,\n",
       "       1963., 1965., 1960., 1978., 1988., 1990., 1993., 1987., 1955.,\n",
       "       1965., 1993., 1994., 1989., 1976., 1991., 1992., 1994., 1992.,\n",
       "       1980., 1985., 2003., 1985., 1971., 1974., 1989., 1994., 1987.,\n",
       "       2000., 1981., 1971., 1979., 1975., 1964., 1986., 1995., 1979.,\n",
       "       1988., 1979., 1999., 1978., 1967., 1987., 2004., 1994., 1992.,\n",
       "       1991., 1981., 1989., 1992., 1983., 2001., 1972., 1977., 1974.,\n",
       "       1975., 1988., 1992., 1992., 1978., 1982., 1983., 1997., 1994.,\n",
       "       1974., 1980., 1987., 1983., 1992., 1990., 1989., 1969., 1995.,\n",
       "       1996., 1991., 1981., 1998., 1978., 1974., 1967., 1972., 1979.,\n",
       "       1964., 1975., 1984., 1979., 1977., 1977., 1978., 1963., 1989.,\n",
       "       1995., 1964., 1981., 1975., 1977., 1993., 1967., 1967., 1986.,\n",
       "       1978., 1981., 1974., 1999., 1989., 1980., 1980., 1975., 1987.,\n",
       "       1983., 1993., 1981., 1984., 1990., 1998., 1979., 1971., 1991.,\n",
       "       2000., 1985., 2000., 1975., 1985., 1993., 1987., 1984., 1976.,\n",
       "       1969., 1998., 1996., 1955., 1973., 1990., 1969., 1974., 1955.,\n",
       "       1981., 1988., 1985., 1990., 1993., 1991., 2002., 2002., 1981.,\n",
       "       1978., 1977., 1992., 2002., 1981., 1992., 1984., 1997., 2003.,\n",
       "       1997., 1992., 1990., 1987., 1989., 1981., 1973., 1999., 1997.,\n",
       "       1997., 1999., 1980., 1980., 1977., 1989., 1955., 1979., 1974.,\n",
       "       1998., 1985., 1989., 1979., 1988., 1976., 1987., 1964., 1965.,\n",
       "       1983., 1983., 1995., 1981., 1960., 1990., 1969., 1963., 1985.,\n",
       "       1972., 1985., 1981., 1993., 1984., 1991., 1999., 1999., 1984.,\n",
       "       1983., 1970., 1978., 1994., 1987., 1978., 1988., 1981., 1993.,\n",
       "       1996., 1989., 1995., 1964., 1963., 1971., 1995., 1987., 1995.,\n",
       "       1992., 1993., 1998., 1985., 1994., 1999., 1992., 1964., 1983.,\n",
       "       1994., 1986., 1980., 1963., 1978., 1995., 1993., 1968., 1996.,\n",
       "       1988., 1976., 1993., 2000., 2002., 1982., 1990., 1950., 1988.,\n",
       "       1978., 1985., 1978., 1981., 1981., 1983., 1973., 1962., 1984.,\n",
       "       1960., 1991., 1993., 1995., 1970., 1976., 1999., 2001.])"
      ]
     },
     "execution_count": 34,
     "metadata": {},
     "output_type": "execute_result"
    }
   ],
   "source": [
    "np.array(data.Dogumyili1.dropna())"
   ]
  },
  {
   "cell_type": "code",
   "execution_count": 7,
   "id": "f639cb10",
   "metadata": {},
   "outputs": [
    {
     "data": {
      "text/plain": [
       "2004.0"
      ]
     },
     "metadata": {},
     "output_type": "display_data"
    },
    {
     "data": {
      "text/plain": [
       "1947.0"
      ]
     },
     "metadata": {},
     "output_type": "display_data"
    }
   ],
   "source": [
    "display(data.Dogumyili1.max())\n",
    "display(data.Dogumyili1.min())\n"
   ]
  },
  {
   "cell_type": "code",
   "execution_count": 36,
   "id": "57525649",
   "metadata": {},
   "outputs": [
    {
     "data": {
      "text/plain": [
       "0            Bakirkoy\n",
       "1            Cekmekoy\n",
       "2            Umraniye\n",
       "3            Cekmekoy\n",
       "4       Gaziosmanpasa\n",
       "            ...      \n",
       "1019         Gungoren\n",
       "1020           Pendik\n",
       "1021            Fatih\n",
       "1022         Cekmekoy\n",
       "1023         Cekmekoy\n",
       "Name: Ilce1, Length: 1024, dtype: object"
      ]
     },
     "execution_count": 36,
     "metadata": {},
     "output_type": "execute_result"
    }
   ],
   "source": [
    "data.Ilce1"
   ]
  },
  {
   "cell_type": "code",
   "execution_count": 8,
   "id": "87f7231c",
   "metadata": {},
   "outputs": [
    {
     "name": "stderr",
     "output_type": "stream",
     "text": [
      "<ipython-input-8-c04e99b71ca9>:1: FutureWarning: Using the level keyword in DataFrame and Series aggregations is deprecated and will be removed in a future version. Use groupby instead. ser.count(level=1) should use ser.groupby(level=1).count().\n",
      "  data.Ilce1.count('Bakirkoy')\n"
     ]
    },
    {
     "ename": "ValueError",
     "evalue": "Series.count level is only valid with a MultiIndex",
     "output_type": "error",
     "traceback": [
      "\u001b[1;31m---------------------------------------------------------------------------\u001b[0m",
      "\u001b[1;31mValueError\u001b[0m                                Traceback (most recent call last)",
      "\u001b[1;32m<ipython-input-8-c04e99b71ca9>\u001b[0m in \u001b[0;36m<module>\u001b[1;34m\u001b[0m\n\u001b[1;32m----> 1\u001b[1;33m \u001b[0mdata\u001b[0m\u001b[1;33m.\u001b[0m\u001b[0mIlce1\u001b[0m\u001b[1;33m.\u001b[0m\u001b[0mcount\u001b[0m\u001b[1;33m(\u001b[0m\u001b[1;34m'Bakirkoy'\u001b[0m\u001b[1;33m)\u001b[0m\u001b[1;33m\u001b[0m\u001b[1;33m\u001b[0m\u001b[0m\n\u001b[0m",
      "\u001b[1;32m~\\Anaconda3\\lib\\site-packages\\pandas\\core\\series.py\u001b[0m in \u001b[0;36mcount\u001b[1;34m(self, level)\u001b[0m\n\u001b[0;32m   1936\u001b[0m             )\n\u001b[0;32m   1937\u001b[0m             \u001b[1;32mif\u001b[0m \u001b[1;32mnot\u001b[0m \u001b[0misinstance\u001b[0m\u001b[1;33m(\u001b[0m\u001b[0mself\u001b[0m\u001b[1;33m.\u001b[0m\u001b[0mindex\u001b[0m\u001b[1;33m,\u001b[0m \u001b[0mMultiIndex\u001b[0m\u001b[1;33m)\u001b[0m\u001b[1;33m:\u001b[0m\u001b[1;33m\u001b[0m\u001b[1;33m\u001b[0m\u001b[0m\n\u001b[1;32m-> 1938\u001b[1;33m                 \u001b[1;32mraise\u001b[0m \u001b[0mValueError\u001b[0m\u001b[1;33m(\u001b[0m\u001b[1;34m\"Series.count level is only valid with a MultiIndex\"\u001b[0m\u001b[1;33m)\u001b[0m\u001b[1;33m\u001b[0m\u001b[1;33m\u001b[0m\u001b[0m\n\u001b[0m\u001b[0;32m   1939\u001b[0m \u001b[1;33m\u001b[0m\u001b[0m\n\u001b[0;32m   1940\u001b[0m         \u001b[0mindex\u001b[0m \u001b[1;33m=\u001b[0m \u001b[0mself\u001b[0m\u001b[1;33m.\u001b[0m\u001b[0mindex\u001b[0m\u001b[1;33m\u001b[0m\u001b[1;33m\u001b[0m\u001b[0m\n",
      "\u001b[1;31mValueError\u001b[0m: Series.count level is only valid with a MultiIndex"
     ]
    }
   ],
   "source": [
    "data.Ilce1.count('Bakirkoy')"
   ]
  },
  {
   "cell_type": "code",
   "execution_count": 40,
   "id": "4912bc0d",
   "metadata": {},
   "outputs": [
    {
     "data": {
      "text/plain": [
       "Cekmekoy          399\n",
       "Umraniye           89\n",
       "Sisli              83\n",
       "Fatih              72\n",
       "Atasehir           69\n",
       "Beyoglu            43\n",
       "Sultanbeyli        25\n",
       "Kagithane          18\n",
       "KuCukCekmece       18\n",
       "Pendik             17\n",
       "BahCelievler       16\n",
       "Sancaktepe         15\n",
       "Esenyurt           14\n",
       "Sultangazi         12\n",
       "Esenler            11\n",
       "Avcilar             9\n",
       "Gaziosmanpasa       8\n",
       "Bagcilar            8\n",
       "Izmir               7\n",
       "Kartal              7\n",
       "Zeytinburnu         7\n",
       "Konak               5\n",
       "Maltepe             4\n",
       "Eyup                4\n",
       "BuyukCekmece        4\n",
       "ISTANBUL DISI       4\n",
       "Kadikoy             4\n",
       "Beylikduzu          4\n",
       "Uskudar             4\n",
       "Gebze               3\n",
       "Sile                3\n",
       "Sariyer             3\n",
       "Tuzla               2\n",
       "Mersin              2\n",
       "Bakirkoy            2\n",
       "Basaksehir          2\n",
       "Gungoren            2\n",
       "Mentese             1\n",
       "Salihli             1\n",
       "Asagi dudullu       1\n",
       "Torbali             1\n",
       "kadikoy             1\n",
       "Izmit/Koaceli       1\n",
       "Van                 1\n",
       "Beykoz              1\n",
       "Tepebasi            1\n",
       "Sur                 1\n",
       "Erzincan            1\n",
       "Arnavutkoy          1\n",
       "Muratpasa           1\n",
       "sultanbeyli         1\n",
       "Name: Ilce1, dtype: int64"
      ]
     },
     "execution_count": 40,
     "metadata": {},
     "output_type": "execute_result"
    }
   ],
   "source": [
    "data['Ilce1'].value_counts()"
   ]
  },
  {
   "cell_type": "code",
   "execution_count": 9,
   "id": "d0125d25",
   "metadata": {},
   "outputs": [
    {
     "data": {
      "text/plain": [
       "Nisantepe Mah.     96\n",
       "Nisantepe M.       87\n",
       "Karagumruk M.      46\n",
       "Pasakoy            44\n",
       "Omerli M.          39\n",
       "                   ..\n",
       "Kustepe             1\n",
       "19 Mayis mah.       1\n",
       "Haciahmet m.        1\n",
       "Kavaklilar mah.     1\n",
       "Eksioglu mah.       1\n",
       "Name: Mahalle1, Length: 305, dtype: int64"
      ]
     },
     "execution_count": 9,
     "metadata": {},
     "output_type": "execute_result"
    }
   ],
   "source": [
    "data['Mahalle1'].value_counts()"
   ]
  },
  {
   "cell_type": "code",
   "execution_count": 42,
   "id": "8a079016",
   "metadata": {},
   "outputs": [
    {
     "data": {
      "text/plain": [
       "Apartman                      439\n",
       "Gecekondu                     323\n",
       "Cadir / Baraka / Konteyner    117\n",
       "aprtman                         1\n",
       "gecekondu                       1\n",
       "apartman                        1\n",
       "Name: EvDurumu1, dtype: int64"
      ]
     },
     "execution_count": 42,
     "metadata": {},
     "output_type": "execute_result"
    }
   ],
   "source": [
    "data['EvDurumu1'].value_counts()"
   ]
  },
  {
   "cell_type": "code",
   "execution_count": 43,
   "id": "64391c3f",
   "metadata": {},
   "outputs": [
    {
     "data": {
      "text/plain": [
       "Kira odemiyor                                   330\n",
       "Kira oduyor                                     216\n",
       "Kira oduyor, 1000                                26\n",
       "Kira oduyor, 600                                 24\n",
       "Kira oduyor, 700                                 22\n",
       "                                               ... \n",
       "Kira oduyor, 860                                  1\n",
       "Konut Kredisi                                     1\n",
       "Kira odemiyor, kendi evi                          1\n",
       "Kira odemiyor, kredi ile ev aldi 2500 civari      1\n",
       "Kira oduyor, 950                                  1\n",
       "Name: KiraDurumu1, Length: 120, dtype: int64"
      ]
     },
     "execution_count": 43,
     "metadata": {},
     "output_type": "execute_result"
    }
   ],
   "source": [
    "data['KiraDurumu1'].value_counts()"
   ]
  },
  {
   "cell_type": "code",
   "execution_count": 45,
   "id": "5ffb037c",
   "metadata": {},
   "outputs": [
    {
     "data": {
      "text/plain": [
       "Soba                          276\n",
       "Dogalgaz                       23\n",
       "Elektrikli isitici              8\n",
       "HiCbir isinma imkani yok        2\n",
       "Soba, sobasi yok                1\n",
       "Soba                            1\n",
       "Soba, klima (ev sahibinin)      1\n",
       "merkezi sistem                  1\n",
       "Soba, Dogalgaz                  1\n",
       "Ates yakiyor                    1\n",
       "Name: Isinma1, dtype: int64"
      ]
     },
     "execution_count": 45,
     "metadata": {},
     "output_type": "execute_result"
    }
   ],
   "source": [
    "data['Isinma1'].value_counts()"
   ]
  },
  {
   "cell_type": "code",
   "execution_count": 46,
   "id": "82b62492",
   "metadata": {},
   "outputs": [
    {
     "data": {
      "text/plain": [
       "0                                                                              8\n",
       "Asgari ucret                                                                   7\n",
       "2800                                                                           7\n",
       "500                                                                            7\n",
       "300                                                                            5\n",
       "                                                                              ..\n",
       "150-200                                                                        1\n",
       "gunluk 50-60                                                                   1\n",
       "bilmiyor, ogluna soracak                                                       1\n",
       "1 yil kirasini hayirsever veriyor, sosyal market atasehir belediyesi300 tl     1\n",
       "2 ayda bir 650 (dul maasi)                                                     1\n",
       "Name: HanegeliriHaftadaOrtalamaÇalışmaSaati1, Length: 236, dtype: int64"
      ]
     },
     "execution_count": 46,
     "metadata": {},
     "output_type": "execute_result"
    }
   ],
   "source": [
    "data['HanegeliriHaftadaOrtalamaÇalışmaSaati1'].value_counts()"
   ]
  },
  {
   "cell_type": "code",
   "execution_count": 47,
   "id": "c7033c78",
   "metadata": {},
   "outputs": [
    {
     "data": {
      "text/plain": [
       "4.0     212\n",
       "5.0     205\n",
       "3.0     159\n",
       "6.0     131\n",
       "2.0      96\n",
       "7.0      55\n",
       "1.0      32\n",
       "9.0      22\n",
       "8.0      16\n",
       "10.0      2\n",
       "20.0      1\n",
       "Name: Hanenufusu1, dtype: int64"
      ]
     },
     "execution_count": 47,
     "metadata": {},
     "output_type": "execute_result"
    }
   ],
   "source": [
    "data['Hanenufusu1'].value_counts()"
   ]
  },
  {
   "cell_type": "code",
   "execution_count": 48,
   "id": "1756de56",
   "metadata": {},
   "outputs": [
    {
     "data": {
      "text/plain": [
       "- Esler ve Cocuklardan olusan Cekirdek aile                       201\n",
       "- Tek ebeveyn ve Cocuklardan olusan Cekirdek aile                  45\n",
       "- En az bir Cekirdek aile ve diger kisilerden olusan hanehalki     33\n",
       "- Sadece eslerden olusan Cekirdek aile                             19\n",
       "Birden Cok Cekirdek aile                                            6\n",
       "Yalniz yasli kadin.                                                 2\n",
       "Yalniz kadin.                                                       2\n",
       "24 yasinda psikolojik sorunu olan oglu, gelini ve torunlariyla      1\n",
       "Yalniz yasiyor                                                      1\n",
       "Yalniz yasayan kadin.                                               1\n",
       "Tek yasayan birey                                                   1\n",
       "yalniz yasli birey                                                  1\n",
       "Yalniz yasli kadin                                                  1\n",
       "tek basina                                                          1\n",
       "Yalniz kadin                                                        1\n",
       "yalniz                                                              1\n",
       "Name: Hanetipi1, dtype: int64"
      ]
     },
     "execution_count": 48,
     "metadata": {},
     "output_type": "execute_result"
    }
   ],
   "source": [
    "data['Hanetipi1'].value_counts()"
   ]
  },
  {
   "cell_type": "code",
   "execution_count": 49,
   "id": "4dafb26e",
   "metadata": {},
   "outputs": [
    {
     "data": {
      "text/plain": [
       "2                    231\n",
       "3                    168\n",
       "1                    164\n",
       "4                    104\n",
       "0                     71\n",
       "5                     41\n",
       "6                      8\n",
       "4 Cocuk                4\n",
       "3 Cocuk                3\n",
       "7                      3\n",
       "3 Cocuk                2\n",
       "1 Cocuk                2\n",
       "2 Cocuk                2\n",
       "8                      2\n",
       "44309                  1\n",
       "2 Cocuk.               1\n",
       "1 tane 21 yasinda      1\n",
       "44309.5091666666       1\n",
       "10                     1\n",
       "3 Cocuk.               1\n",
       "7 Cocuk                1\n",
       "6 Cocuk.               1\n",
       "Cocuk yok.             1\n",
       "Name: Evdekac Cocukvar1, dtype: int64"
      ]
     },
     "execution_count": 49,
     "metadata": {},
     "output_type": "execute_result"
    }
   ],
   "source": [
    "data['Evdekac Cocukvar1'].value_counts()"
   ]
  },
  {
   "cell_type": "code",
   "execution_count": 51,
   "id": "62897232",
   "metadata": {},
   "outputs": [
    {
     "data": {
      "text/plain": [
       "Hayir     699\n",
       "Evet      173\n",
       "hayir       3\n",
       "yok         2\n",
       "Seker       1\n",
       "hayir       1\n",
       "Name: HanedeEngelliVarmi1, dtype: int64"
      ]
     },
     "execution_count": 51,
     "metadata": {},
     "output_type": "execute_result"
    }
   ],
   "source": [
    "data['HanedeEngelliVarmi1'].value_counts()"
   ]
  },
  {
   "cell_type": "code",
   "execution_count": 52,
   "id": "07e2630c",
   "metadata": {},
   "outputs": [
    {
     "data": {
      "text/plain": [
       "Evli                                                                                                     714\n",
       "Bosanma                                                                                                   53\n",
       "Esi olmus                                                                                                 38\n",
       "Bekar                                                                                                     35\n",
       "Esinden ayri yasiyor - resmi bosanma yok                                                                  30\n",
       "Evli, resmi nikah yok                                                                                     26\n",
       "Evli, Esi cezaevinde                                                                                      19\n",
       "Esi cezaevinde                                                                                            10\n",
       "evli                                                                                                       6\n",
       "Bosanma asamasinda                                                                                         3\n",
       "Evli, Esinden ayri yasiyor - resmi bosanma yok                                                             2\n",
       "Uzaklastirma karari var/almaya Calisiyor / siddet riski var                                                1\n",
       "Bosanmis                                                                                                   1\n",
       "Esinden ayri yasiyor - resmi bosanma yok, Uzaklastirma karari var/almaya Calisiyor / siddet riski var      1\n",
       "Cemile SepetCi                                                                                             1\n",
       "Y                                                                                                          1\n",
       "Gokhan Colak                                                                                               1\n",
       "Esinden ayri yasiyor - resmi bosanma yok, Evli, resmi nikah yok                                            1\n",
       "Esinden ayri yasiyor - resmi bosanma yok, Esi cezaevinde                                                   1\n",
       "Evli, resmi nikah yok, Esi cezaevinde                                                                      1\n",
       "Canan Cetin                                                                                                1\n",
       "Saime Yongaci                                                                                              1\n",
       "Begum Deveseven                                                                                            1\n",
       "Bekar, Bosanma                                                                                             1\n",
       "evli                                                                                                       1\n",
       "Bekar, Esinden ayri yasiyor - resmi bosanma yok                                                            1\n",
       "Name: MedeniDurum1, dtype: int64"
      ]
     },
     "execution_count": 52,
     "metadata": {},
     "output_type": "execute_result"
    }
   ],
   "source": [
    "data['MedeniDurum1'].value_counts()"
   ]
  },
  {
   "cell_type": "code",
   "execution_count": 54,
   "id": "51aabba2",
   "metadata": {},
   "outputs": [
    {
     "data": {
      "text/plain": [
       "1997                          14\n",
       "2000                          14\n",
       "1989                          14\n",
       "1992                          14\n",
       "1998                          12\n",
       "1994                          12\n",
       "1995                          11\n",
       "1991                          10\n",
       "1985                          10\n",
       "1982                          10\n",
       "1993                           9\n",
       "1987                           9\n",
       "1984                           9\n",
       "1996                           8\n",
       "1986                           8\n",
       "1981                           8\n",
       "1975                           8\n",
       "1980                           7\n",
       "1988                           7\n",
       "1990                           6\n",
       "1999                           6\n",
       "1978                           6\n",
       "1973                           5\n",
       "2003                           4\n",
       "1961                           4\n",
       "1983                           4\n",
       "1955                           4\n",
       "2002                           4\n",
       "1970                           4\n",
       "1979                           4\n",
       "1977                           3\n",
       "Okur yazar degil               3\n",
       "1958                           3\n",
       "1974                           3\n",
       "1960                           3\n",
       "2001                           3\n",
       "1976                           3\n",
       "1971                           2\n",
       "-                              2\n",
       "1972                           2\n",
       "1966                           2\n",
       "1969                           2\n",
       "1965                           1\n",
       "1963                           1\n",
       "1957                           1\n",
       "1946                           1\n",
       "1944                           1\n",
       "Mesire Celikoz                 1\n",
       "1954                           1\n",
       "Okur yazar, Lise terk          1\n",
       "1951                           1\n",
       "Okur yazar, Ilkokul Mezunu     1\n",
       "1948                           1\n",
       "1962                           1\n",
       "yok                            1\n",
       "Name: Dogumyili2, dtype: int64"
      ]
     },
     "execution_count": 54,
     "metadata": {},
     "output_type": "execute_result"
    }
   ],
   "source": [
    "data['Dogumyili2'].value_counts()"
   ]
  },
  {
   "cell_type": "code",
   "execution_count": 55,
   "id": "5e0c4e82",
   "metadata": {},
   "outputs": [
    {
     "data": {
      "text/plain": [
       "2020        25\n",
       "2005        23\n",
       "2008        19\n",
       "2018        19\n",
       "2019        19\n",
       "2016        18\n",
       "2014        17\n",
       "2009        14\n",
       "2007        13\n",
       "2010        13\n",
       "2011        12\n",
       "2004        12\n",
       "2015        12\n",
       "2012        11\n",
       "2017        11\n",
       "2006        10\n",
       "2013        10\n",
       "2003         7\n",
       "2021         5\n",
       "Gitmiyor     2\n",
       "Name: dogumyili64, dtype: int64"
      ]
     },
     "execution_count": 55,
     "metadata": {},
     "output_type": "execute_result"
    }
   ],
   "source": [
    "data['dogumyili64'].value_counts()"
   ]
  },
  {
   "cell_type": "code",
   "execution_count": 56,
   "id": "69750788",
   "metadata": {},
   "outputs": [
    {
     "data": {
      "text/plain": [
       "Evet                                                                           110\n",
       "Okul Caginda degil                                                              37\n",
       "Hayir                                                                           33\n",
       "Evet, Ozel Egitim                                                                7\n",
       "Ozel Egitim                                                                      4\n",
       "Okula devam etmiyor, kaydin eski oturduklari yerde kaldi, bu sene alacaklar      1\n",
       "Evet, ACik ogretimden okuyor.                                                    1\n",
       "Seneye baslayacak.                                                               1\n",
       "Okula devam etmiyor, ilkokulu bitirmis, dedesine bakiyor hastaymis               1\n",
       "Bu sene okula baslayacak                                                         1\n",
       "Hayir, Anne okulda basarisiz oldugu iCin okula devam etmedigini soyledi.         1\n",
       "Okula devam etmiyor                                                              1\n",
       "Hayir, 5. sinifa kadar okumus.                                                   1\n",
       "Hayir, HiC gitmemis                                                              1\n",
       "Seneye okula gidecek.                                                            1\n",
       "Name: okuldevam66, dtype: int64"
      ]
     },
     "execution_count": 56,
     "metadata": {},
     "output_type": "execute_result"
    }
   ],
   "source": [
    "data['okuldevam66'].value_counts()"
   ]
  },
  {
   "cell_type": "code",
   "execution_count": 58,
   "id": "4f8930b9",
   "metadata": {},
   "outputs": [
    {
     "data": {
      "text/plain": [
       "5                                   25\n",
       "1                                   16\n",
       "6                                   15\n",
       "2                                   13\n",
       "8                                   13\n",
       "3                                   13\n",
       "7                                    9\n",
       "4                                    9\n",
       "Lise 1                               8\n",
       "Lise 2                               7\n",
       "Ekonomik imkanlarin yetersizligi     3\n",
       "Lise 4                               2\n",
       "Name: kacincisinif67, dtype: int64"
      ]
     },
     "execution_count": 58,
     "metadata": {},
     "output_type": "execute_result"
    }
   ],
   "source": [
    "data['kacincisinif67'].value_counts()"
   ]
  },
  {
   "cell_type": "code",
   "execution_count": 59,
   "id": "0da72cc1",
   "metadata": {},
   "outputs": [
    {
     "data": {
      "text/plain": [
       "Ekonomik imkanlarin yetersizligi                                                                                                 22\n",
       "Cocuk istemiyor                                                                                                                   5\n",
       "Calismak zorunda, Ekonomik imkanlarin yetersizligi                                                                                4\n",
       "Calismak zorunda                                                                                                                  3\n",
       "Ogrenme guClugu                                                                                                                   3\n",
       "Ekonomik imkanlarin yetersizligi, Cocuk istemiyor                                                                                 2\n",
       "Dil engeli, Cok anlayamadim biraktim                                                                                              1\n",
       "Cocuk istemiyor, Aile istemiyor                                                                                                   1\n",
       "Ekonomik imkanlarin yetersizligi, Aile istemiyor, Okul masrafi                                                                    1\n",
       "Pandemi dolayisiyla okula ara verilmesinden devam etmemekte.                                                                      1\n",
       "Astim hastasi, 2 kez korona oldu okula gondermedi annesi. Internet olmadigi iCin evden takip edemedi.                             1\n",
       "Saglikli problemleri (bedensel engel)                                                                                             1\n",
       "Saglik problemleri.                                                                                                               1\n",
       "Calismak zorunda, Abisinin vefatindan sonra ve babasinin rahatsizligindan bu yana okula devam etmemekte.                          1\n",
       "Cocuk istemiyor, babasi evi terkedip, annesi da kanser tedavisi gorunce okulu birakmis, bu sene dosaridan bitirme sozu vermis     1\n",
       "Ekonomik imkanlarin yetersizligi, Aile sorunlari                                                                                  1\n",
       "resim yapmayi Cok seviyor                                                                                                         1\n",
       "Cocuk istemiyor, Ulasim                                                                                                           1\n",
       "teknolojiye merakli                                                                                                               1\n",
       "bu yil baslayacak                                                                                                                 1\n",
       "Pandemi kosullarinda okula devam edemekte.                                                                                        1\n",
       "Ekonomik imkanlarin yetersizligi, Saglik sorunlari var.                                                                           1\n",
       "Ogrenme guClugu, Pandemi surecinde Cocuk okuldan uzaklasmis.                                                                      1\n",
       "Ekonomik imkanlarin yetersizligi, Kimliksizlik, Cocuk istemiyor                                                                   1\n",
       "Name: okumamanedeni68, dtype: int64"
      ]
     },
     "execution_count": 59,
     "metadata": {},
     "output_type": "execute_result"
    }
   ],
   "source": [
    "data['okumamanedeni68'].value_counts()"
   ]
  },
  {
   "cell_type": "code",
   "execution_count": 61,
   "id": "685617f7",
   "metadata": {},
   "outputs": [
    {
     "data": {
      "text/plain": [
       "Ozel ders destegi, Internete erisim                                                                                                              27\n",
       "Internete erisim                                                                                                                                 19\n",
       "Ozel ders destegi                                                                                                                                18\n",
       "Kitap destegi, Internete erisim                                                                                                                   6\n",
       "iyi                                                                                                                                               5\n",
       "Ozel ders destegi, Internete erisim, Tablet.                                                                                                      4\n",
       "Kitap destegi                                                                                                                                     4\n",
       "Kitap destegi, Ozel ders destegi                                                                                                                  2\n",
       "Ozel ders destegi, Internete erisim, Tablet                                                                                                       2\n",
       "Internete erisim, Kirtasiye                                                                                                                       2\n",
       "Ozel ders destegi, Sinava hazirlik                                                                                                                2\n",
       "Kitap destegi, Ozel ders destegi, Internete erisim, okuma yazmayi tam sokememis                                                                   2\n",
       "kirtasiye                                                                                                                                         2\n",
       "internete erisim                                                                                                                                  1\n",
       "Internete erisim, Kirtasiye-kiyafet                                                                                                               1\n",
       "Kitap destegi, Ozel ders destegi, Internete erisim                                                                                                1\n",
       "Kitap destegi, Ozel ders destegi, Internete erisim, Sinava hazirlik, disaridan okulu bitirmesi iCin destek ihtiyaci orta2'den baslayacak.         1\n",
       "Kitap destegi, Ozel ders destegi, Sinava hazirlik, sinava hazirlanmamis, okuldan kitaplari parayla vermisler, alamamis                            1\n",
       "Internete erisim, Sinava hazirlik, okuldan tablet gondermisler, Caliskanmis Cok                                                                   1\n",
       "Okul masraflarina destek olunursa okula gitmek istiyor, hiC gitmemis                                                                              1\n",
       "Ozel ders destegi, Internete erisim, tablet                                                                                                       1\n",
       "Burs destegi                                                                                                                                      1\n",
       "Internete erisim, Tablet                                                                                                                          1\n",
       "Ozel ders destegi, Birisi gosterse ogrenir,  biz okuma yazma bilmiyoruz.                                                                          1\n",
       "Kirtasiye-kiyafet                                                                                                                                 1\n",
       "Internete erisim, Sinava hazirlik                                                                                                                 1\n",
       "Ozel ders destegi, Internete erisim, Sinava hazirlik                                                                                              1\n",
       "Kitap destegi, Ozel ders destegi, Internete erisim, Sinava hazirlik, laptop, bilgisayar olmadigi iCin pandemide online derslei takip edememis     1\n",
       "Ozel ders destegi, Matematik dersinde destege ihtiyaci var.                                                                                       1\n",
       "Ozel ders destegi, Okuma-yazma                                                                                                                    1\n",
       "Kitap destegi, Internete erisim, uni hazirlik kitaplari yok                                                                                       1\n",
       "Kitap destegi, Ozel ders destegi, Internete erisim, Sinava hazirlik, okul malzemelerini alamamislar, tablet, internet gerekiyor                   1\n",
       "Kitap destegi, kirtasiye destegi                                                                                                                  1\n",
       "internete erisimi sinirli                                                                                                                         1\n",
       "Ozel ders destegi, Internete erisimi yok                                                                                                          1\n",
       "Ozel ders destegi, Okuma-yazma guClugu                                                                                                            1\n",
       "Ozel ders destegi, Internete erisim, Tablet/TV                                                                                                    1\n",
       "Ozel ders destegi, Internete erisim, Tablet.                                                                                                      1\n",
       "Ozel ders destegi, Okuma yazmasi iyi degil, okul ozel egitime yonlendirdi. Ama pandemide gidemediler.                                             1\n",
       "Ozel ders destegi, Internete erisim, Ulasim.                                                                                                      1\n",
       "Ozel ders destegi, Internete erisim, Kitap-kirtasiye.                                                                                             1\n",
       "Ozel ders destegi, Haftada 2 gun gidiyor 45dk yetersiz geliyor, hiC konusamiyor                                                                   1\n",
       "5. sinifa geCtigi ortaokul uzakmis, ulasim konusunda destege ihtiyaC duydugunu soyledi                                                            1\n",
       "Ozel ders destegi, Internete erisim, okuma yazmayi tam sokememis                                                                                  1\n",
       "Kitap destegi, Ozel ders destegi, Internete erisim, Sinava hazirlik, tablet                                                                       1\n",
       "Kitap destegi, okul malzemeleri, Canta kirtasiye hiC yokmus                                                                                       1\n",
       "Kitap destegi, Ozel ders destegi, Internete erisim, Sinava hazirlik                                                                               1\n",
       "Ozel ders destegi, haftada 3-6 saat ozel egitime gidiyor ama hala okuma yazmada zorlaniyor                                                        1\n",
       "Internete erisim, kirtasiye - bilgisayar                                                                                                          1\n",
       "Name: dersdestekihtiyacı70, dtype: int64"
      ]
     },
     "execution_count": 61,
     "metadata": {},
     "output_type": "execute_result"
    }
   ],
   "source": [
    "data['dersdestekihtiyacı70'].value_counts()"
   ]
  },
  {
   "cell_type": "code",
   "execution_count": 62,
   "id": "6f4661d8",
   "metadata": {},
   "outputs": [
    {
     "data": {
      "text/plain": [
       "Ekonomik imkanlarin yetersizligi, Cocuk istemiyor                                                                            3\n",
       "Cocuk istemiyor                                                                                                              2\n",
       "Ogrenme guClugu                                                                                                              2\n",
       "Ekonomik imkanlarin yetersizligi                                                                                             2\n",
       "Cocuk istemiyor, Aile istemiyor                                                                                              1\n",
       "Saglik sorunlari                                                                                                             1\n",
       "Okul Caginda degil                                                                                                           1\n",
       "Cocuk istemiyor, Lise 2 ye kayitli fakat anne Cocugun okula devam etmek istemedigi iCin okula devam etmedigini belirtti.     1\n",
       "Anne Cocugun okuldan atildigini soyledi. Sadece 1. sinifa kadar okumus.                                                      1\n",
       "Annenin bakimi ile ilgileniyor. 4. sinifa kadar gitmis. Okuma-yazmasi var.                                                   1\n",
       "Ekonomik imkanlarin yetersizligi, Uzaktan egitime devam edememis                                                             1\n",
       "muzikle ilgili, futbol oynamayi seviyor                                                                                      1\n",
       "Calismak zorunda                                                                                                             1\n",
       "Saglik problemleri                                                                                                           1\n",
       "Calismak zorunda, Ekonomik imkanlarin yetersizligi                                                                           1\n",
       "Ekonomik imkanlarin yetersizligi, Aile ilgisiz                                                                               1\n",
       "teknolojiye merakli                                                                                                          1\n",
       "Internet/tablet yok                                                                                                          1\n",
       "Pandemi sureCinde okulla devam edemisler. Okullarin                                                                          1\n",
       "Babasinin kaybindan sonra psikolojik rahatsizligindan dolayi devam etmiyor.                                                  1\n",
       "Yeni donemde yazilacak                                                                                                       1\n",
       "Name: okumamanedeni77, dtype: int64"
      ]
     },
     "execution_count": 62,
     "metadata": {},
     "output_type": "execute_result"
    }
   ],
   "source": [
    "data['okumamanedeni77'].value_counts()"
   ]
  },
  {
   "cell_type": "code",
   "execution_count": 16,
   "id": "c552c39f",
   "metadata": {},
   "outputs": [
    {
     "data": {
      "text/plain": [
       "array([1997., 1999., 1975., 1966., 1980., 1980., 1989., 1999., 1992.,\n",
       "       1985., 1995., 1998., 1981., 1998., 2003., 1958., 1985., 1977.,\n",
       "       1994., 1979., 1992., 1995., 2001., 1976., 1955., 1989., 1960.,\n",
       "       1961., 1992., 1997., 1981., 2002., 1974., 1989., 1989., 1982.,\n",
       "       1997., 1998., 1988., 1996., 1978., 1977., 1985., 1997., 1991.,\n",
       "       1958., 1986., 1991., 1988., 1998., 1971., 1988., 1996., 1982.,\n",
       "       1993., 1954., 1984., 1993., 1991., 1991., 1987., 1984., 1994.,\n",
       "       2002., 1982., 2001., 2003., 1999., 1995., 1951., 1980., 1989.,\n",
       "       1988., 1962., 1994., 1975., 1970., 1975., 1990., 1978., 1987.,\n",
       "       1990., 1995., 1981., 1958., 1948., 1961., 1995., 1996., 1992.,\n",
       "       1982., 1975., 1998., 1993., 1993., 1973., 1983., 1984., 1985.,\n",
       "       1992., 1981., 1992., 1995., 1998., 1996., 1997., 1970., 1984.,\n",
       "       1994., 1972., 1989., 1993., 1983., 1961., 1960., 1997., 2000.,\n",
       "       1997., 1995., 1983., 1997., 1984., 1988., 1961., 2000., 1984.,\n",
       "       1990., 1992., 1979., 1980., 1993., 1975., 1975., 2000., 2000.,\n",
       "       1994., 1994., 1990., 1998., 1972., 1996., 2000., 1978., 1989.,\n",
       "       1981., 1979., 1984., 1985., 1973., 1986., 1976., 1978., 1995.,\n",
       "       1997., 1994., 1998., 1991., 1987., 1978., 1973., 2001., 1974.,\n",
       "       1986., 1986., 1979., 1987., 1995., 1969., 1994., 1980., 2002.,\n",
       "       1995., 1997., 1993., 1978., 1987., 1981., 2000., 1986., 1984.,\n",
       "       1973., 1985., 1986., 1982., 1992., 1998., 2000., 1955., 1973.,\n",
       "       1991., 1983., 1991., 1991., 1965., 2000., 1998., 1996., 1999.,\n",
       "       1976., 1981., 1982., 1987., 1987., 1985., 1997., 2002., 1985.,\n",
       "       2000., 1971., 1989., 1982., 2000., 1944., 1991., 1989., 1990.,\n",
       "       1989., 2003., 1955., 1994., 1982., 1998., 1989., 1980., 1986.,\n",
       "       1970., 1985., 1988., 1986., 2000., 1992., 1989., 1994., 1992.,\n",
       "       1991., 1974., 1996., 1966., 1975., 1990., 1985., 1975., 1980.,\n",
       "       1997., 1993., 1977., 1995., 1988., 1981., 1992., 1946., 1989.,\n",
       "       1969., 1999., 1997., 1957., 1997., 1987., 1982., 2000., 1999.,\n",
       "       1998., 1987., 1970., 1992., 1992., 1989., 1996., 1960., 1982.,\n",
       "       1994., 1963., 1993., 1994., 2000., 2003., 1984., 1955., 1992.,\n",
       "       2000.])"
      ]
     },
     "execution_count": 16,
     "metadata": {},
     "output_type": "execute_result"
    }
   ],
   "source": [
    "np.array(data.Dogumyili2.dropna())"
   ]
  },
  {
   "cell_type": "code",
   "execution_count": 19,
   "id": "7e8dfb5c",
   "metadata": {},
   "outputs": [
    {
     "data": {
      "text/plain": [
       "2003.0"
      ]
     },
     "execution_count": 19,
     "metadata": {},
     "output_type": "execute_result"
    }
   ],
   "source": [
    "data.Dogumyili2.max()"
   ]
  },
  {
   "cell_type": "code",
   "execution_count": 24,
   "id": "6a8aba2c",
   "metadata": {},
   "outputs": [
    {
     "data": {
      "text/plain": [
       "1997.0    14\n",
       "1992.0    14\n",
       "2000.0    14\n",
       "1989.0    14\n",
       "1994.0    12\n",
       "1998.0    12\n",
       "1995.0    11\n",
       "1985.0    10\n",
       "1982.0    10\n",
       "1991.0    10\n",
       "1987.0     9\n",
       "1984.0     9\n",
       "1993.0     9\n",
       "1981.0     8\n",
       "1986.0     8\n",
       "1975.0     8\n",
       "1996.0     8\n",
       "1988.0     7\n",
       "1980.0     7\n",
       "1990.0     6\n",
       "1999.0     6\n",
       "1978.0     6\n",
       "1973.0     5\n",
       "1979.0     4\n",
       "1983.0     4\n",
       "1970.0     4\n",
       "2003.0     4\n",
       "1955.0     4\n",
       "2002.0     4\n",
       "1961.0     4\n",
       "1977.0     3\n",
       "1958.0     3\n",
       "2001.0     3\n",
       "1960.0     3\n",
       "1976.0     3\n",
       "1974.0     3\n",
       "1971.0     2\n",
       "1972.0     2\n",
       "1966.0     2\n",
       "1969.0     2\n",
       "1965.0     1\n",
       "1957.0     1\n",
       "1946.0     1\n",
       "1944.0     1\n",
       "1948.0     1\n",
       "1962.0     1\n",
       "1951.0     1\n",
       "1954.0     1\n",
       "1963.0     1\n",
       "Name: Dogumyili2, dtype: int64"
      ]
     },
     "execution_count": 24,
     "metadata": {},
     "output_type": "execute_result"
    }
   ],
   "source": [
    "data['Dogumyili2'].value_counts()"
   ]
  },
  {
   "cell_type": "code",
   "execution_count": 29,
   "id": "06b0815e",
   "metadata": {},
   "outputs": [
    {
     "data": {
      "text/plain": [
       "array([1995., 1995., 1986., 2000., 1977., 1955., 1993., 1946., 1999.,\n",
       "       2002., 1980., 2002., 2002., 1955., 1944., 2000., 1993., 1998.,\n",
       "       1985., 1994., 1976., 1994., 1978., 2003., 1987., 1978., 1951.,\n",
       "       1997., 2000., 2000., 1981., 1961., 1993., 1965., 2013., 1985.,\n",
       "       1960., 1956., 1960., 2000., 1945., 1968., 1996., 2001., 1997.,\n",
       "       1993., 2000., 1954., 1999., 1975., 1978., 1986., 1974., 2001.,\n",
       "       1999., 2002., 2004., 1977., 2000., 2000., 1958., 1985., 1998.])"
      ]
     },
     "execution_count": 29,
     "metadata": {},
     "output_type": "execute_result"
    }
   ],
   "source": [
    "np.array(data.Dogumyili3.dropna())"
   ]
  },
  {
   "cell_type": "code",
   "execution_count": 31,
   "id": "e9f119fb",
   "metadata": {},
   "outputs": [
    {
     "data": {
      "text/plain": [
       "2000.0    8\n",
       "1993.0    4\n",
       "2002.0    4\n",
       "1985.0    3\n",
       "1999.0    3\n",
       "1978.0    3\n",
       "1995.0    2\n",
       "1997.0    2\n",
       "1986.0    2\n",
       "2001.0    2\n",
       "1994.0    2\n",
       "1998.0    2\n",
       "1960.0    2\n",
       "1955.0    2\n",
       "1977.0    2\n",
       "1975.0    1\n",
       "1954.0    1\n",
       "1974.0    1\n",
       "2004.0    1\n",
       "1996.0    1\n",
       "1968.0    1\n",
       "1945.0    1\n",
       "1956.0    1\n",
       "1987.0    1\n",
       "2013.0    1\n",
       "1965.0    1\n",
       "1961.0    1\n",
       "1981.0    1\n",
       "1951.0    1\n",
       "2003.0    1\n",
       "1976.0    1\n",
       "1944.0    1\n",
       "1980.0    1\n",
       "1946.0    1\n",
       "1958.0    1\n",
       "Name: Dogumyili3, dtype: int64"
      ]
     },
     "execution_count": 31,
     "metadata": {},
     "output_type": "execute_result"
    }
   ],
   "source": [
    "data['Dogumyili3'].value_counts()"
   ]
  },
  {
   "cell_type": "code",
   "execution_count": 39,
   "id": "c39decff",
   "metadata": {},
   "outputs": [
    {
     "data": {
      "text/plain": [
       "2004.0"
      ]
     },
     "metadata": {},
     "output_type": "display_data"
    },
    {
     "data": {
      "text/plain": [
       "1947.0"
      ]
     },
     "metadata": {},
     "output_type": "display_data"
    },
    {
     "data": {
      "text/plain": [
       "2003.0"
      ]
     },
     "metadata": {},
     "output_type": "display_data"
    },
    {
     "data": {
      "text/plain": [
       "1944.0"
      ]
     },
     "metadata": {},
     "output_type": "display_data"
    },
    {
     "data": {
      "text/plain": [
       "2013.0"
      ]
     },
     "metadata": {},
     "output_type": "display_data"
    },
    {
     "data": {
      "text/plain": [
       "1944.0"
      ]
     },
     "metadata": {},
     "output_type": "display_data"
    },
    {
     "data": {
      "text/plain": [
       "2005.0"
      ]
     },
     "metadata": {},
     "output_type": "display_data"
    },
    {
     "data": {
      "text/plain": [
       "1952.0"
      ]
     },
     "metadata": {},
     "output_type": "display_data"
    }
   ],
   "source": [
    "display(data.Dogumyili1.max())\n",
    "display(data.Dogumyili1.min())\n",
    "display(data.Dogumyili2.max())\n",
    "display(data.Dogumyili2.min())\n",
    "display(data.Dogumyili3.max())\n",
    "display(data.Dogumyili3.min())\n",
    "display(data.Dogumyili4.max())\n",
    "display(data.Dogumyili4.min())\n"
   ]
  },
  {
   "cell_type": "code",
   "execution_count": 55,
   "id": "cf59b9d3",
   "metadata": {},
   "outputs": [
    {
     "data": {
      "text/plain": [
       "array([2019., 2021., 2017., 2004., 2018., 2012., 2014., 2020., 2006.,\n",
       "       2011., 2020., 2006., 2017., 2014., 2017., 2018., 2017., 2020.,\n",
       "       2017., 2021., 2017., 2015., 2013., 2013., 2019., 2021., 2008.,\n",
       "       2019., 2014., 2014., 2013., 2008., 2017., 2020., 2014., 2007.,\n",
       "       2011., 2013., 2010., 2020., 2009., 2015., 2018., 2015., 2006.,\n",
       "       2005., 2016., 2018., 2012., 2020., 2021., 2017., 2015., 2007.,\n",
       "       2013., 2010., 2006., 2019., 2020., 2013., 2019., 2019.])"
      ]
     },
     "execution_count": 55,
     "metadata": {},
     "output_type": "execute_result"
    }
   ],
   "source": [
    "np.array(data.dogumyili92.dropna())"
   ]
  },
  {
   "cell_type": "code",
   "execution_count": null,
   "id": "4ccea01a",
   "metadata": {},
   "outputs": [],
   "source": []
  }
 ],
 "metadata": {
  "kernelspec": {
   "display_name": "Python 3",
   "language": "python",
   "name": "python3"
  },
  "language_info": {
   "codemirror_mode": {
    "name": "ipython",
    "version": 3
   },
   "file_extension": ".py",
   "mimetype": "text/x-python",
   "name": "python",
   "nbconvert_exporter": "python",
   "pygments_lexer": "ipython3",
   "version": "3.8.8"
  }
 },
 "nbformat": 4,
 "nbformat_minor": 5
}
