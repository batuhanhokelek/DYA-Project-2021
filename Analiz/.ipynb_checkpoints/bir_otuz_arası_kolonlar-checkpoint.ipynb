{
 "cells": [
  {
   "cell_type": "markdown",
   "id": "49bdf76a",
   "metadata": {},
   "source": [
    "**In this notebook columns from 0 to 30 were handled**"
   ]
  },
  {
   "cell_type": "code",
   "execution_count": 2,
   "id": "19b63d17-cf85-4a35-9b22-897af5c93317",
   "metadata": {},
   "outputs": [],
   "source": [
    "#Gerekli kütüphanler\n",
    "import numpy as np\n",
    "import pandas as pd\n",
    "import seaborn as sns\n",
    "import matplotlib.pyplot as plt\n",
    "import re"
   ]
  },
  {
   "cell_type": "code",
   "execution_count": 3,
   "id": "e229a33f-82e1-490c-8c6f-ac641a0ad499",
   "metadata": {},
   "outputs": [],
   "source": [
    "path = \"/home/sudenur/DYA-Project-2021/Veri/DYA_Updated_Data (1).xlsx\""
   ]
  },
  {
   "cell_type": "code",
   "execution_count": 4,
   "id": "8bb4f350-bae2-41dd-bb2c-ceea1b2b7101",
   "metadata": {},
   "outputs": [],
   "source": [
    "dya = pd.read_excel(path)"
   ]
  },
  {
   "cell_type": "code",
   "execution_count": 6,
   "id": "1f9c769e-75d7-4f40-960c-c38db8212a9f",
   "metadata": {},
   "outputs": [],
   "source": [
    "data = dya.iloc[:, :30]"
   ]
  },
  {
   "cell_type": "markdown",
   "id": "9cc6c9be",
   "metadata": {},
   "source": [
    "**Column 0**"
   ]
  },
  {
   "cell_type": "code",
   "execution_count": 5,
   "id": "a485877b-01f9-46b2-9882-317a5e44e048",
   "metadata": {},
   "outputs": [
    {
     "data": {
      "text/plain": [
       "0   NaN\n",
       "1   NaN\n",
       "2   NaN\n",
       "3   NaN\n",
       "4   NaN\n",
       "Name: Unnamed: 0, dtype: float64"
      ]
     },
     "execution_count": 5,
     "metadata": {},
     "output_type": "execute_result"
    }
   ],
   "source": [
    "data.iloc[:, 0].head()"
   ]
  },
  {
   "cell_type": "code",
   "execution_count": 6,
   "id": "a598086d-29fc-43e0-9fd1-0df74479fb17",
   "metadata": {},
   "outputs": [],
   "source": [
    "data.rename(columns={'Unnamed: 0':'ID'}, inplace=True)"
   ]
  },
  {
   "cell_type": "code",
   "execution_count": 7,
   "id": "5b75df95-1d5a-4668-8b8f-cdc198b16a01",
   "metadata": {
    "tags": []
   },
   "outputs": [],
   "source": [
    "def generate_id():\n",
    "    return np.random.randint(100000000)\n",
    "\n",
    "def give_ID(column):\n",
    "    print(column)\n",
    "    for i in range(len(column)):\n",
    "        print(i)\n",
    "        while False:\n",
    "            unique_id = generate_id()\n",
    "            unique_id.isin(df[column])\n",
    "        column[i] = unique_id\n",
    "                "
   ]
  },
  {
   "cell_type": "code",
   "execution_count": 8,
   "id": "f08d5c48-d227-4e81-993e-00a65e3f466d",
   "metadata": {},
   "outputs": [
    {
     "name": "stdout",
     "output_type": "stream",
     "text": [
      "nan\n"
     ]
    },
    {
     "ename": "TypeError",
     "evalue": "object of type 'float' has no len()",
     "output_type": "error",
     "traceback": [
      "\u001b[0;31m---------------------------------------------------------------------------\u001b[0m",
      "\u001b[0;31mTypeError\u001b[0m                                 Traceback (most recent call last)",
      "\u001b[0;32m<ipython-input-8-6ed07c8eff23>\u001b[0m in \u001b[0;36m<module>\u001b[0;34m\u001b[0m\n\u001b[0;32m----> 1\u001b[0;31m \u001b[0mdata\u001b[0m\u001b[0;34m[\u001b[0m\u001b[0;34m'ID'\u001b[0m\u001b[0;34m]\u001b[0m\u001b[0;34m.\u001b[0m\u001b[0mapply\u001b[0m\u001b[0;34m(\u001b[0m\u001b[0mgive_ID\u001b[0m\u001b[0;34m)\u001b[0m\u001b[0;34m\u001b[0m\u001b[0;34m\u001b[0m\u001b[0m\n\u001b[0m",
      "\u001b[0;32m~/anaconda3/lib/python3.8/site-packages/pandas/core/series.py\u001b[0m in \u001b[0;36mapply\u001b[0;34m(self, func, convert_dtype, args, **kwds)\u001b[0m\n\u001b[1;32m   4136\u001b[0m             \u001b[0;32melse\u001b[0m\u001b[0;34m:\u001b[0m\u001b[0;34m\u001b[0m\u001b[0;34m\u001b[0m\u001b[0m\n\u001b[1;32m   4137\u001b[0m                 \u001b[0mvalues\u001b[0m \u001b[0;34m=\u001b[0m \u001b[0mself\u001b[0m\u001b[0;34m.\u001b[0m\u001b[0mastype\u001b[0m\u001b[0;34m(\u001b[0m\u001b[0mobject\u001b[0m\u001b[0;34m)\u001b[0m\u001b[0;34m.\u001b[0m\u001b[0m_values\u001b[0m\u001b[0;34m\u001b[0m\u001b[0;34m\u001b[0m\u001b[0m\n\u001b[0;32m-> 4138\u001b[0;31m                 \u001b[0mmapped\u001b[0m \u001b[0;34m=\u001b[0m \u001b[0mlib\u001b[0m\u001b[0;34m.\u001b[0m\u001b[0mmap_infer\u001b[0m\u001b[0;34m(\u001b[0m\u001b[0mvalues\u001b[0m\u001b[0;34m,\u001b[0m \u001b[0mf\u001b[0m\u001b[0;34m,\u001b[0m \u001b[0mconvert\u001b[0m\u001b[0;34m=\u001b[0m\u001b[0mconvert_dtype\u001b[0m\u001b[0;34m)\u001b[0m\u001b[0;34m\u001b[0m\u001b[0;34m\u001b[0m\u001b[0m\n\u001b[0m\u001b[1;32m   4139\u001b[0m \u001b[0;34m\u001b[0m\u001b[0m\n\u001b[1;32m   4140\u001b[0m         \u001b[0;32mif\u001b[0m \u001b[0mlen\u001b[0m\u001b[0;34m(\u001b[0m\u001b[0mmapped\u001b[0m\u001b[0;34m)\u001b[0m \u001b[0;32mand\u001b[0m \u001b[0misinstance\u001b[0m\u001b[0;34m(\u001b[0m\u001b[0mmapped\u001b[0m\u001b[0;34m[\u001b[0m\u001b[0;36m0\u001b[0m\u001b[0;34m]\u001b[0m\u001b[0;34m,\u001b[0m \u001b[0mSeries\u001b[0m\u001b[0;34m)\u001b[0m\u001b[0;34m:\u001b[0m\u001b[0;34m\u001b[0m\u001b[0;34m\u001b[0m\u001b[0m\n",
      "\u001b[0;32mpandas/_libs/lib.pyx\u001b[0m in \u001b[0;36mpandas._libs.lib.map_infer\u001b[0;34m()\u001b[0m\n",
      "\u001b[0;32m<ipython-input-7-0b9a5f32f6b6>\u001b[0m in \u001b[0;36mgive_ID\u001b[0;34m(column)\u001b[0m\n\u001b[1;32m      4\u001b[0m \u001b[0;32mdef\u001b[0m \u001b[0mgive_ID\u001b[0m\u001b[0;34m(\u001b[0m\u001b[0mcolumn\u001b[0m\u001b[0;34m)\u001b[0m\u001b[0;34m:\u001b[0m\u001b[0;34m\u001b[0m\u001b[0;34m\u001b[0m\u001b[0m\n\u001b[1;32m      5\u001b[0m     \u001b[0mprint\u001b[0m\u001b[0;34m(\u001b[0m\u001b[0mcolumn\u001b[0m\u001b[0;34m)\u001b[0m\u001b[0;34m\u001b[0m\u001b[0;34m\u001b[0m\u001b[0m\n\u001b[0;32m----> 6\u001b[0;31m     \u001b[0;32mfor\u001b[0m \u001b[0mi\u001b[0m \u001b[0;32min\u001b[0m \u001b[0mrange\u001b[0m\u001b[0;34m(\u001b[0m\u001b[0mlen\u001b[0m\u001b[0;34m(\u001b[0m\u001b[0mcolumn\u001b[0m\u001b[0;34m)\u001b[0m\u001b[0;34m)\u001b[0m\u001b[0;34m:\u001b[0m\u001b[0;34m\u001b[0m\u001b[0;34m\u001b[0m\u001b[0m\n\u001b[0m\u001b[1;32m      7\u001b[0m         \u001b[0mprint\u001b[0m\u001b[0;34m(\u001b[0m\u001b[0mi\u001b[0m\u001b[0;34m)\u001b[0m\u001b[0;34m\u001b[0m\u001b[0;34m\u001b[0m\u001b[0m\n\u001b[1;32m      8\u001b[0m         \u001b[0;32mwhile\u001b[0m \u001b[0;32mFalse\u001b[0m\u001b[0;34m:\u001b[0m\u001b[0;34m\u001b[0m\u001b[0;34m\u001b[0m\u001b[0m\n",
      "\u001b[0;31mTypeError\u001b[0m: object of type 'float' has no len()"
     ]
    }
   ],
   "source": [
    "data['ID'].apply(give_ID)"
   ]
  },
  {
   "cell_type": "code",
   "execution_count": null,
   "id": "d2bf6fa5-21e7-408f-ba6e-b87a923e19f8",
   "metadata": {},
   "outputs": [],
   "source": [
    "generate = np.random.randint(100000000)"
   ]
  },
  {
   "cell_type": "code",
   "execution_count": null,
   "id": "8bd4d54c-a452-4c2b-bc6c-a7b60a544102",
   "metadata": {},
   "outputs": [],
   "source": [
    "data.head()"
   ]
  },
  {
   "cell_type": "code",
   "execution_count": null,
   "id": "763e2217-e4c1-45cd-85b6-427468790d25",
   "metadata": {},
   "outputs": [],
   "source": [
    "data['Egitimdurumu1'].isin(['Lise Mezunu']) "
   ]
  },
  {
   "cell_type": "code",
   "execution_count": null,
   "id": "eed55623-42e1-40db-bf65-7e1f4ccd238e",
   "metadata": {},
   "outputs": [],
   "source": [
    "('Lise Mezunu').isin(data['Egitimdurumu1'])"
   ]
  },
  {
   "cell_type": "code",
   "execution_count": null,
   "id": "289ea618-286e-4573-acdf-d098d4d15c3b",
   "metadata": {
    "jupyter": {
     "outputs_hidden": true
    },
    "tags": []
   },
   "outputs": [],
   "source": [
    "for i in range(len(data['ID'])):\n",
    "    print(i)"
   ]
  },
  {
   "cell_type": "markdown",
   "id": "b953de66",
   "metadata": {},
   "source": [
    "**Column 1**"
   ]
  },
  {
   "cell_type": "code",
   "execution_count": null,
   "id": "4418c4bb-7de5-4313-a5cd-7b160505f252",
   "metadata": {},
   "outputs": [],
   "source": [
    "data.iloc[:, 1].value_counts()"
   ]
  },
  {
   "cell_type": "markdown",
   "id": "1a3ad3ea",
   "metadata": {},
   "source": [
    "**Column 2 to 6** (the all are going to be dropped at the end since they are complately empty)"
   ]
  },
  {
   "cell_type": "code",
   "execution_count": null,
   "id": "45349132-a383-4930-bf45-350624c9b257",
   "metadata": {},
   "outputs": [],
   "source": [
    "data.iloc[:, 2].value_counts()"
   ]
  },
  {
   "cell_type": "code",
   "execution_count": null,
   "id": "56e33d47-3eb4-4e58-9353-2f16d1062702",
   "metadata": {},
   "outputs": [],
   "source": [
    "data.iloc[:, 3].value_counts()"
   ]
  },
  {
   "cell_type": "code",
   "execution_count": null,
   "id": "f5a2ca07-88a1-49b7-aa5f-ca1bcd513a79",
   "metadata": {},
   "outputs": [],
   "source": [
    "data.iloc[:, 4].value_counts()"
   ]
  },
  {
   "cell_type": "code",
   "execution_count": null,
   "id": "9ba5715f-6005-4d26-ac51-80c2be35a1e1",
   "metadata": {},
   "outputs": [],
   "source": [
    "data.iloc[:, 5].value_counts()"
   ]
  },
  {
   "cell_type": "code",
   "execution_count": null,
   "id": "e59a744d-f4ab-4869-b732-6fbc350c534c",
   "metadata": {},
   "outputs": [],
   "source": [
    "data.iloc[:, 6].value_counts()"
   ]
  },
  {
   "cell_type": "markdown",
   "id": "bff4e91e",
   "metadata": {},
   "source": [
    "**Column 7** (no manipulation was made)"
   ]
  },
  {
   "cell_type": "code",
   "execution_count": null,
   "id": "3a987ad6-1d47-4cb8-8c01-c47d95838f28",
   "metadata": {},
   "outputs": [],
   "source": [
    "data.columns[7]"
   ]
  },
  {
   "cell_type": "code",
   "execution_count": null,
   "id": "728fecd6-f138-4e62-837a-b2b660ad640d",
   "metadata": {},
   "outputs": [],
   "source": [
    "data.iloc[:, 7].isna().sum()"
   ]
  },
  {
   "cell_type": "code",
   "execution_count": null,
   "id": "567c16de-c14b-47d3-bfe4-48c963859970",
   "metadata": {
    "jupyter": {
     "outputs_hidden": true
    },
    "tags": []
   },
   "outputs": [],
   "source": [
    "data.iloc[:, 7].value_counts()"
   ]
  },
  {
   "cell_type": "markdown",
   "id": "2d97d6c4",
   "metadata": {
    "tags": []
   },
   "source": [
    "**Column 8** (manipulated with Python and then manually)"
   ]
  },
  {
   "cell_type": "code",
   "execution_count": null,
   "id": "3f2fd1cc-c4b6-419c-bf9c-6b034410b0ce",
   "metadata": {},
   "outputs": [],
   "source": [
    "data.columns[8]"
   ]
  },
  {
   "cell_type": "code",
   "execution_count": 10,
   "id": "f9e0d71e-b20a-4075-a362-6b5bd83fe549",
   "metadata": {},
   "outputs": [
    {
     "data": {
      "text/plain": [
       "272"
      ]
     },
     "execution_count": 10,
     "metadata": {},
     "output_type": "execute_result"
    }
   ],
   "source": [
    "data.iloc[:, 8].isna().sum()"
   ]
  },
  {
   "cell_type": "code",
   "execution_count": 28,
   "id": "7a2b843e",
   "metadata": {},
   "outputs": [],
   "source": [
    "# Changing dtype from int to object\n",
    "data.iloc[:, 8] = data.iloc[:, 8].astype(object)"
   ]
  },
  {
   "cell_type": "code",
   "execution_count": 27,
   "id": "107c8cb4",
   "metadata": {},
   "outputs": [],
   "source": [
    "# Removing any words after 'Okur yazar degil,'\n",
    "for i in range(len(data.iloc[:, 8])):\n",
    "    if data.iloc[i, 8] is not np.nan:\n",
    "        if bool(re.match(\"Okur yazar degil,\", data.iloc[:, 8][i])):\n",
    "            data.iloc[i, 8] = \"Okur yazar degil\"\n",
    "    else:\n",
    "        pass"
   ]
  },
  {
   "cell_type": "code",
   "execution_count": 19,
   "id": "938fc35e-71dd-4107-9c01-69789df87e7c",
   "metadata": {},
   "outputs": [],
   "source": [
    "# Removing \"Okur yazar,\" at the beginning of the sentence and leaving only education levels\n",
    "data.iloc[:, 8] = data.iloc[:, 8].str.replace(\"Okur yazar,\", \"\", case=False)"
   ]
  },
  {
   "cell_type": "code",
   "execution_count": 29,
   "id": "1aea4208",
   "metadata": {},
   "outputs": [],
   "source": [
    "# Removing spaces at the beginning and ending of words\n",
    "for i in range(len(data.iloc[:, 8])):\n",
    "    if data.iloc[i, 8] is not np.nan:\n",
    "        data.iloc[i, 8] = str(data.iloc[i, 8]).lstrip()\n",
    "        data.iloc[i, 8] = str(data.iloc[i, 8]).rstrip()"
   ]
  },
  {
   "cell_type": "code",
   "execution_count": 21,
   "id": "a6ca6e6c-65b6-46d1-9a58-2264b60fe70f",
   "metadata": {},
   "outputs": [],
   "source": [
    "# Removing 'mezunu'\n",
    "data.iloc[:, 8] = data.iloc[:, 8].str.replace(\"mezunu\", \"\", case=False)"
   ]
  },
  {
   "cell_type": "code",
   "execution_count": 23,
   "id": "b2fe095a",
   "metadata": {},
   "outputs": [],
   "source": [
    "# Replacing \"Terk\" with \"terk\"\n",
    "data.iloc[:, 8] = data.iloc[:, 8].str.replace(\"Terk\", \"terk\", case=False)"
   ]
  },
  {
   "cell_type": "code",
   "execution_count": 25,
   "id": "19dfb5a0",
   "metadata": {},
   "outputs": [],
   "source": [
    "# Replacing \"ilkokul\" with \"Ilkokul\"\n",
    "data.iloc[:, 8] = data.iloc[:, 8].str.replace(\"ilkokul\", \"Ilkokul\", case=False)"
   ]
  },
  {
   "cell_type": "code",
   "execution_count": 30,
   "id": "c20f72d8-fbfa-4384-b74f-f046eeae051c",
   "metadata": {},
   "outputs": [
    {
     "data": {
      "text/plain": [
       "Okur yazar degil                                           220\n",
       "Ilkokul                                                    173\n",
       "Ortaokul                                                    94\n",
       "Ilkokul terk                                                91\n",
       "Okur yazar                                                  64\n",
       "Lise                                                        59\n",
       "Universite                                                  16\n",
       "Ortaokul terk                                               14\n",
       "Lise terk                                                    8\n",
       "lise                                                         2\n",
       "okur yazar                                                   2\n",
       "Universite , Anadolu universitesi sosyoloji , Calismadi      1\n",
       "ilkogretim                                                   1\n",
       "ortaokul                                                     1\n",
       "Ilkokul, okur yazar                                          1\n",
       "Okuma yazma yok                                              1\n",
       "okuryazar 2.sn                                               1\n",
       "Lise , FarsCa, Biraz Ingilizce ve TurkCe biliyor             1\n",
       "okur yazar degil                                             1\n",
       "Okuyor yazamiyor, Ilkokul terk                               1\n",
       "Name: Egitimdurumu1, dtype: int64"
      ]
     },
     "execution_count": 30,
     "metadata": {},
     "output_type": "execute_result"
    }
   ],
   "source": [
    "data.iloc[:, 8].value_counts()"
   ]
  },
  {
   "cell_type": "markdown",
   "id": "bc82dad4",
   "metadata": {
    "tags": []
   },
   "source": [
    "**Column 9**"
   ]
  },
  {
   "cell_type": "code",
   "execution_count": null,
   "id": "c6f3e3e9-5b50-426b-b723-b3589f6aafde",
   "metadata": {
    "tags": []
   },
   "outputs": [],
   "source": [
    "data.iloc[:, 9]"
   ]
  },
  {
   "cell_type": "code",
   "execution_count": null,
   "id": "2a5bdff3-8940-4c7e-a412-8e5f2c9ad1b8",
   "metadata": {},
   "outputs": [],
   "source": [
    "data.iloc[:, 9].value_counts()"
   ]
  },
  {
   "cell_type": "markdown",
   "id": "8911b32e",
   "metadata": {},
   "source": [
    "**Column 10**"
   ]
  },
  {
   "cell_type": "code",
   "execution_count": 10,
   "id": "1b7b2f14-4231-4757-ab9f-46cfb34c7177",
   "metadata": {
    "tags": []
   },
   "outputs": [
    {
     "data": {
      "text/plain": [
       "134"
      ]
     },
     "execution_count": 10,
     "metadata": {},
     "output_type": "execute_result"
    }
   ],
   "source": [
    "len(data.iloc[:, 10].value_counts())"
   ]
  },
  {
   "cell_type": "code",
   "execution_count": 42,
   "id": "bc108190",
   "metadata": {},
   "outputs": [
    {
     "data": {
      "text/plain": [
       "Calismiyor                                          219\n",
       "Gunluk is                                           198\n",
       "Calisiyor                                            51\n",
       "Calisiyor, Gunluk is                                 45\n",
       "Calismiyor, Pandeminin basindan beri Calisamiyor     30\n",
       "Name: CalismaDurumu1, dtype: int64"
      ]
     },
     "execution_count": 42,
     "metadata": {},
     "output_type": "execute_result"
    }
   ],
   "source": [
    "data.iloc[:, 10].value_counts()"
   ]
  },
  {
   "cell_type": "code",
   "execution_count": 40,
   "id": "6b436027-1117-4c0f-afbb-96d35832ec02",
   "metadata": {},
   "outputs": [
    {
     "data": {
      "text/plain": [
       "Calismiyor                                               219\n",
       "Gunluk is                                                198\n",
       "Calisiyor                                                 51\n",
       "Calisiyor, Gunluk is                                      45\n",
       "Calismiyor, Pandeminin basindan beri Calisamiyor          30\n",
       "                                                        ... \n",
       "Gunluk is, 60tl                                            1\n",
       "Gunluk is, Is geldikce Calisiyor, Cok az Cagiriyorlar      1\n",
       "Calisiyor, 15 gun                                          1\n",
       "Calisiyor, 3100tl                                          1\n",
       "Calismiyor, su anda Calismiyor                             1\n",
       "Name: CalismaDurumu1, Length: 134, dtype: int64"
      ]
     },
     "execution_count": 40,
     "metadata": {},
     "output_type": "execute_result"
    }
   ],
   "source": [
    "data.iloc[:, 10].value_counts()"
   ]
  },
  {
   "cell_type": "code",
   "execution_count": 13,
   "id": "a2a69f5e",
   "metadata": {},
   "outputs": [],
   "source": [
    "regex = \".*Gunluk is.*\""
   ]
  },
  {
   "cell_type": "code",
   "execution_count": 15,
   "id": "bfa36ba4",
   "metadata": {},
   "outputs": [
    {
     "ename": "TypeError",
     "evalue": "expected string or bytes-like object",
     "output_type": "error",
     "traceback": [
      "\u001b[0;31m---------------------------------------------------------------------------\u001b[0m",
      "\u001b[0;31mTypeError\u001b[0m                                 Traceback (most recent call last)",
      "\u001b[0;32m<ipython-input-15-963db409a1b1>\u001b[0m in \u001b[0;36m<module>\u001b[0;34m\u001b[0m\n\u001b[0;32m----> 1\u001b[0;31m \u001b[0mre\u001b[0m\u001b[0;34m.\u001b[0m\u001b[0mmatch\u001b[0m\u001b[0;34m(\u001b[0m\u001b[0mregex\u001b[0m\u001b[0;34m,\u001b[0m \u001b[0mdata\u001b[0m\u001b[0;34m.\u001b[0m\u001b[0miloc\u001b[0m\u001b[0;34m[\u001b[0m\u001b[0;34m:\u001b[0m\u001b[0;34m,\u001b[0m \u001b[0;36m10\u001b[0m\u001b[0;34m]\u001b[0m\u001b[0;34m)\u001b[0m\u001b[0;34m\u001b[0m\u001b[0;34m\u001b[0m\u001b[0m\n\u001b[0m",
      "\u001b[0;32m~/anaconda3/lib/python3.8/re.py\u001b[0m in \u001b[0;36mmatch\u001b[0;34m(pattern, string, flags)\u001b[0m\n\u001b[1;32m    189\u001b[0m     \"\"\"Try to apply the pattern at the start of the string, returning\n\u001b[1;32m    190\u001b[0m     a Match object, or None if no match was found.\"\"\"\n\u001b[0;32m--> 191\u001b[0;31m     \u001b[0;32mreturn\u001b[0m \u001b[0m_compile\u001b[0m\u001b[0;34m(\u001b[0m\u001b[0mpattern\u001b[0m\u001b[0;34m,\u001b[0m \u001b[0mflags\u001b[0m\u001b[0;34m)\u001b[0m\u001b[0;34m.\u001b[0m\u001b[0mmatch\u001b[0m\u001b[0;34m(\u001b[0m\u001b[0mstring\u001b[0m\u001b[0;34m)\u001b[0m\u001b[0;34m\u001b[0m\u001b[0;34m\u001b[0m\u001b[0m\n\u001b[0m\u001b[1;32m    192\u001b[0m \u001b[0;34m\u001b[0m\u001b[0m\n\u001b[1;32m    193\u001b[0m \u001b[0;32mdef\u001b[0m \u001b[0mfullmatch\u001b[0m\u001b[0;34m(\u001b[0m\u001b[0mpattern\u001b[0m\u001b[0;34m,\u001b[0m \u001b[0mstring\u001b[0m\u001b[0;34m,\u001b[0m \u001b[0mflags\u001b[0m\u001b[0;34m=\u001b[0m\u001b[0;36m0\u001b[0m\u001b[0;34m)\u001b[0m\u001b[0;34m:\u001b[0m\u001b[0;34m\u001b[0m\u001b[0;34m\u001b[0m\u001b[0m\n",
      "\u001b[0;31mTypeError\u001b[0m: expected string or bytes-like object"
     ]
    }
   ],
   "source": [
    "re.match(regex, data.iloc[:, 10])"
   ]
  },
  {
   "cell_type": "code",
   "execution_count": 19,
   "id": "9b605b81",
   "metadata": {},
   "outputs": [
    {
     "data": {
      "text/plain": [
       "338"
      ]
     },
     "execution_count": 19,
     "metadata": {},
     "output_type": "execute_result"
    }
   ],
   "source": [
    "# How many rows include \"Gunluk is\"\n",
    "data.iloc[:, 10].str.contains(regex, case=False).sum()"
   ]
  },
  {
   "cell_type": "code",
   "execution_count": 33,
   "id": "f9aff9a0",
   "metadata": {},
   "outputs": [
    {
     "data": {
      "text/plain": [
       "43"
      ]
     },
     "execution_count": 33,
     "metadata": {},
     "output_type": "execute_result"
    }
   ],
   "source": [
    "# How many rows include \"pandemi\"\n",
    "data.iloc[:, 10].str.contains(\".*pandemi.*\", case=False).sum()"
   ]
  },
  {
   "cell_type": "markdown",
   "id": "5b6a22cd",
   "metadata": {},
   "source": [
    "To understand the relationship between \"pandemi\" and \"gunluk is\":\n",
    "How many columns include both \"pandemi\" and \"gunluk is\" ?"
   ]
  },
  {
   "cell_type": "code",
   "execution_count": 65,
   "id": "1805c0a9",
   "metadata": {},
   "outputs": [],
   "source": [
    "# Starting with filling na values to be able to boolean mask\n",
    "column10 = data.iloc[:, 10]\n",
    "column10_wo_nan = column10.fillna('-')"
   ]
  },
  {
   "cell_type": "code",
   "execution_count": 66,
   "id": "ea940e9f",
   "metadata": {},
   "outputs": [
    {
     "data": {
      "text/plain": [
       "0       False\n",
       "1        True\n",
       "2       False\n",
       "3       False\n",
       "4       False\n",
       "        ...  \n",
       "1019     True\n",
       "1020    False\n",
       "1021    False\n",
       "1022     True\n",
       "1023    False\n",
       "Name: CalismaDurumu1, Length: 1024, dtype: object"
      ]
     },
     "execution_count": 66,
     "metadata": {},
     "output_type": "execute_result"
    }
   ],
   "source": [
    "column10_wo_nan.str.contains(\".*Gunluk is.*\", case=False)"
   ]
  },
  {
   "cell_type": "code",
   "execution_count": 68,
   "id": "8ffd668d",
   "metadata": {},
   "outputs": [
    {
     "ename": "ValueError",
     "evalue": "Cannot mask with non-boolean array containing NA / NaN values",
     "output_type": "error",
     "traceback": [
      "\u001b[0;31m---------------------------------------------------------------------------\u001b[0m",
      "\u001b[0;31mValueError\u001b[0m                                Traceback (most recent call last)",
      "\u001b[0;32m<ipython-input-68-40fdd9d50f98>\u001b[0m in \u001b[0;36m<module>\u001b[0;34m\u001b[0m\n\u001b[0;32m----> 1\u001b[0;31m \u001b[0mcolumn10_wo_nan\u001b[0m\u001b[0;34m.\u001b[0m\u001b[0mloc\u001b[0m\u001b[0;34m[\u001b[0m\u001b[0;34m(\u001b[0m\u001b[0mcolumn10_wo_nan\u001b[0m\u001b[0;34m.\u001b[0m\u001b[0mstr\u001b[0m\u001b[0;34m.\u001b[0m\u001b[0mcontains\u001b[0m\u001b[0;34m(\u001b[0m\u001b[0;34m\".*Gunluk is.*\"\u001b[0m\u001b[0;34m,\u001b[0m \u001b[0mcase\u001b[0m\u001b[0;34m=\u001b[0m\u001b[0;32mFalse\u001b[0m\u001b[0;34m)\u001b[0m\u001b[0;34m)\u001b[0m\u001b[0;34m]\u001b[0m\u001b[0;34m\u001b[0m\u001b[0;34m\u001b[0m\u001b[0m\n\u001b[0m",
      "\u001b[0;32m~/anaconda3/lib/python3.8/site-packages/pandas/core/indexing.py\u001b[0m in \u001b[0;36m__getitem__\u001b[0;34m(self, key)\u001b[0m\n\u001b[1;32m    893\u001b[0m \u001b[0;34m\u001b[0m\u001b[0m\n\u001b[1;32m    894\u001b[0m             \u001b[0mmaybe_callable\u001b[0m \u001b[0;34m=\u001b[0m \u001b[0mcom\u001b[0m\u001b[0;34m.\u001b[0m\u001b[0mapply_if_callable\u001b[0m\u001b[0;34m(\u001b[0m\u001b[0mkey\u001b[0m\u001b[0;34m,\u001b[0m \u001b[0mself\u001b[0m\u001b[0;34m.\u001b[0m\u001b[0mobj\u001b[0m\u001b[0;34m)\u001b[0m\u001b[0;34m\u001b[0m\u001b[0;34m\u001b[0m\u001b[0m\n\u001b[0;32m--> 895\u001b[0;31m             \u001b[0;32mreturn\u001b[0m \u001b[0mself\u001b[0m\u001b[0;34m.\u001b[0m\u001b[0m_getitem_axis\u001b[0m\u001b[0;34m(\u001b[0m\u001b[0mmaybe_callable\u001b[0m\u001b[0;34m,\u001b[0m \u001b[0maxis\u001b[0m\u001b[0;34m=\u001b[0m\u001b[0maxis\u001b[0m\u001b[0;34m)\u001b[0m\u001b[0;34m\u001b[0m\u001b[0;34m\u001b[0m\u001b[0m\n\u001b[0m\u001b[1;32m    896\u001b[0m \u001b[0;34m\u001b[0m\u001b[0m\n\u001b[1;32m    897\u001b[0m     \u001b[0;32mdef\u001b[0m \u001b[0m_is_scalar_access\u001b[0m\u001b[0;34m(\u001b[0m\u001b[0mself\u001b[0m\u001b[0;34m,\u001b[0m \u001b[0mkey\u001b[0m\u001b[0;34m:\u001b[0m \u001b[0mTuple\u001b[0m\u001b[0;34m)\u001b[0m\u001b[0;34m:\u001b[0m\u001b[0;34m\u001b[0m\u001b[0;34m\u001b[0m\u001b[0m\n",
      "\u001b[0;32m~/anaconda3/lib/python3.8/site-packages/pandas/core/indexing.py\u001b[0m in \u001b[0;36m_getitem_axis\u001b[0;34m(self, key, axis)\u001b[0m\n\u001b[1;32m   1101\u001b[0m             \u001b[0mself\u001b[0m\u001b[0;34m.\u001b[0m\u001b[0m_validate_key\u001b[0m\u001b[0;34m(\u001b[0m\u001b[0mkey\u001b[0m\u001b[0;34m,\u001b[0m \u001b[0maxis\u001b[0m\u001b[0;34m)\u001b[0m\u001b[0;34m\u001b[0m\u001b[0;34m\u001b[0m\u001b[0m\n\u001b[1;32m   1102\u001b[0m             \u001b[0;32mreturn\u001b[0m \u001b[0mself\u001b[0m\u001b[0;34m.\u001b[0m\u001b[0m_get_slice_axis\u001b[0m\u001b[0;34m(\u001b[0m\u001b[0mkey\u001b[0m\u001b[0;34m,\u001b[0m \u001b[0maxis\u001b[0m\u001b[0;34m=\u001b[0m\u001b[0maxis\u001b[0m\u001b[0;34m)\u001b[0m\u001b[0;34m\u001b[0m\u001b[0;34m\u001b[0m\u001b[0m\n\u001b[0;32m-> 1103\u001b[0;31m         \u001b[0;32melif\u001b[0m \u001b[0mcom\u001b[0m\u001b[0;34m.\u001b[0m\u001b[0mis_bool_indexer\u001b[0m\u001b[0;34m(\u001b[0m\u001b[0mkey\u001b[0m\u001b[0;34m)\u001b[0m\u001b[0;34m:\u001b[0m\u001b[0;34m\u001b[0m\u001b[0;34m\u001b[0m\u001b[0m\n\u001b[0m\u001b[1;32m   1104\u001b[0m             \u001b[0;32mreturn\u001b[0m \u001b[0mself\u001b[0m\u001b[0;34m.\u001b[0m\u001b[0m_getbool_axis\u001b[0m\u001b[0;34m(\u001b[0m\u001b[0mkey\u001b[0m\u001b[0;34m,\u001b[0m \u001b[0maxis\u001b[0m\u001b[0;34m=\u001b[0m\u001b[0maxis\u001b[0m\u001b[0;34m)\u001b[0m\u001b[0;34m\u001b[0m\u001b[0;34m\u001b[0m\u001b[0m\n\u001b[1;32m   1105\u001b[0m         \u001b[0;32melif\u001b[0m \u001b[0mis_list_like_indexer\u001b[0m\u001b[0;34m(\u001b[0m\u001b[0mkey\u001b[0m\u001b[0;34m)\u001b[0m\u001b[0;34m:\u001b[0m\u001b[0;34m\u001b[0m\u001b[0;34m\u001b[0m\u001b[0m\n",
      "\u001b[0;32m~/anaconda3/lib/python3.8/site-packages/pandas/core/common.py\u001b[0m in \u001b[0;36mis_bool_indexer\u001b[0;34m(key)\u001b[0m\n\u001b[1;32m    112\u001b[0m                     \u001b[0;31m# Don't raise on e.g. [\"A\", \"B\", np.nan], see\u001b[0m\u001b[0;34m\u001b[0m\u001b[0;34m\u001b[0m\u001b[0;34m\u001b[0m\u001b[0m\n\u001b[1;32m    113\u001b[0m                     \u001b[0;31m#  test_loc_getitem_list_of_labels_categoricalindex_with_na\u001b[0m\u001b[0;34m\u001b[0m\u001b[0;34m\u001b[0m\u001b[0;34m\u001b[0m\u001b[0m\n\u001b[0;32m--> 114\u001b[0;31m                     \u001b[0;32mraise\u001b[0m \u001b[0mValueError\u001b[0m\u001b[0;34m(\u001b[0m\u001b[0mna_msg\u001b[0m\u001b[0;34m)\u001b[0m\u001b[0;34m\u001b[0m\u001b[0;34m\u001b[0m\u001b[0m\n\u001b[0m\u001b[1;32m    115\u001b[0m                 \u001b[0;32mreturn\u001b[0m \u001b[0;32mFalse\u001b[0m\u001b[0;34m\u001b[0m\u001b[0;34m\u001b[0m\u001b[0m\n\u001b[1;32m    116\u001b[0m             \u001b[0;32mreturn\u001b[0m \u001b[0;32mTrue\u001b[0m\u001b[0;34m\u001b[0m\u001b[0;34m\u001b[0m\u001b[0m\n",
      "\u001b[0;31mValueError\u001b[0m: Cannot mask with non-boolean array containing NA / NaN values"
     ]
    }
   ],
   "source": [
    "column10_wo_nan.loc[(column10_wo_nan.str.contains(\".*Gunluk is.*\", case=False))]"
   ]
  },
  {
   "cell_type": "code",
   "execution_count": 24,
   "id": "f384c346",
   "metadata": {},
   "outputs": [
    {
     "ename": "SyntaxError",
     "evalue": "invalid syntax (<ipython-input-24-37f7269795c8>, line 1)",
     "output_type": "error",
     "traceback": [
      "\u001b[0;36m  File \u001b[0;32m\"<ipython-input-24-37f7269795c8>\"\u001b[0;36m, line \u001b[0;32m1\u001b[0m\n\u001b[0;31m    data.iloc[:, 10][data.iloc[:, 10].str.contains(\".*pandemi.*\", case=False), na=False]\u001b[0m\n\u001b[0m                                                                                 ^\u001b[0m\n\u001b[0;31mSyntaxError\u001b[0m\u001b[0;31m:\u001b[0m invalid syntax\n"
     ]
    }
   ],
   "source": [
    "data.iloc[:, 10][data.iloc[:, 10].str.contains(\".*pandemi.*\", case=False), nan]"
   ]
  },
  {
   "cell_type": "markdown",
   "id": "5af7a581",
   "metadata": {},
   "source": [
    "**Column 11** (only ... rows needed to be manipulated manually)"
   ]
  },
  {
   "cell_type": "code",
   "execution_count": 75,
   "id": "e68ad27a",
   "metadata": {},
   "outputs": [],
   "source": [
    "column11 = data.iloc[:, 11] "
   ]
  },
  {
   "cell_type": "code",
   "execution_count": 76,
   "id": "c904fa4d",
   "metadata": {},
   "outputs": [
    {
     "data": {
      "text/plain": [
       "Cocuk bakimi                                                  72\n",
       "Saglik problemleri                                            13\n",
       "Yas, Saglik problemleri                                       10\n",
       "Saglik problemleri, Cocuk bakimi                               8\n",
       "Issizlik                                                       7\n",
       "Issizlik, Cocuk bakimi                                         3\n",
       "Cocuk bakimi, Gebelik.                                         1\n",
       "Cocuk bakimi, Engelli Cocugunu birakip Calismaya gidemiyor     1\n",
       "Yas                                                            1\n",
       "Saglik problemleri, obez                                       1\n",
       "Cocuk bakimi, hamile                                           1\n",
       "Issizlik, esinden uzaklastirma karari var                      1\n",
       "Cocuk bakimi, Saglik problemleri                               1\n",
       "Saglik problemleri, iltitapli romatizma                        1\n",
       "Sabika                                                         1\n",
       "Issizlik, cezaevinden yeni Cikti                               1\n",
       "Hukumlu                                                        1\n",
       "Saglik problemleri, Fiziksel engelli.                          1\n",
       "Saglik problemleri, Gebelik.                                   1\n",
       "Saglik problemleri, Issizlik                                   1\n",
       "Saglik problemleri, kanser hastasi                             1\n",
       "Cocuk bakimi, PeCeliyim ben, is bulamam dedi                   1\n",
       "Name: Calismamasebebi1, dtype: int64"
      ]
     },
     "execution_count": 76,
     "metadata": {},
     "output_type": "execute_result"
    }
   ],
   "source": [
    "column11.value_counts()"
   ]
  },
  {
   "cell_type": "markdown",
   "id": "4fac8e7f",
   "metadata": {},
   "source": [
    "**Column 12** (already standard)"
   ]
  },
  {
   "cell_type": "code",
   "execution_count": 77,
   "id": "93826a1b",
   "metadata": {},
   "outputs": [],
   "source": [
    "column12 = data.iloc[:, 12]"
   ]
  },
  {
   "cell_type": "code",
   "execution_count": 78,
   "id": "556d4ef5",
   "metadata": {},
   "outputs": [
    {
     "data": {
      "text/plain": [
       "Hayir    124\n",
       "Evet      99\n",
       "Name: Calismakistiyormu1, dtype: int64"
      ]
     },
     "execution_count": 78,
     "metadata": {},
     "output_type": "execute_result"
    }
   ],
   "source": [
    "column12.value_counts()"
   ]
  },
  {
   "cell_type": "markdown",
   "id": "326f4775",
   "metadata": {},
   "source": [
    "**Column 13**"
   ]
  },
  {
   "cell_type": "code",
   "execution_count": 79,
   "id": "df69318a",
   "metadata": {},
   "outputs": [],
   "source": [
    "column13 = data.iloc[:, 13]"
   ]
  },
  {
   "cell_type": "code",
   "execution_count": 83,
   "id": "80d20a16",
   "metadata": {},
   "outputs": [
    {
     "data": {
      "text/plain": [
       "Temizlik isleri.                                        8\n",
       "Duzenli geliri olan herhangi bir is.                    7\n",
       "ne is olursa                                            3\n",
       "Belediye temizlik isleri.                               2\n",
       "CiCek satmak                                            2\n",
       "                                                       ..\n",
       "Sabikasi var, iskura kaydi vardi ama hiC aramadilar.    1\n",
       "Temizlik- Ne is olursa olsun                            1\n",
       "Elimden her is gelir                                    1\n",
       "Depo isleri. Duzenli geliri olan herhangi bir is.       1\n",
       "Evde uretebilecegi bir is.                              1\n",
       "Name: Neisyapmakistiyor1, Length: 83, dtype: int64"
      ]
     },
     "execution_count": 83,
     "metadata": {},
     "output_type": "execute_result"
    }
   ],
   "source": [
    "column13.value_counts()"
   ]
  },
  {
   "cell_type": "markdown",
   "id": "de829f37",
   "metadata": {},
   "source": [
    "**Column 14** (already standard)"
   ]
  },
  {
   "cell_type": "code",
   "execution_count": 85,
   "id": "74a995a2",
   "metadata": {},
   "outputs": [],
   "source": [
    "column14 = data.iloc[:, 14]"
   ]
  },
  {
   "cell_type": "code",
   "execution_count": 86,
   "id": "6b7182aa",
   "metadata": {},
   "outputs": [
    {
     "data": {
      "text/plain": [
       "Hayir    150\n",
       "Evet      29\n",
       "Name: Iskurisaramapozisyonundami1, dtype: int64"
      ]
     },
     "execution_count": 86,
     "metadata": {},
     "output_type": "execute_result"
    }
   ],
   "source": [
    "column14.value_counts()"
   ]
  },
  {
   "cell_type": "markdown",
   "id": "125a1a66",
   "metadata": {},
   "source": [
    "**Column 15** (already standard)"
   ]
  },
  {
   "cell_type": "code",
   "execution_count": 87,
   "id": "993af34d",
   "metadata": {},
   "outputs": [],
   "source": [
    "column15 = data.iloc[:, 15]"
   ]
  },
  {
   "cell_type": "code",
   "execution_count": 88,
   "id": "32eff64d",
   "metadata": {},
   "outputs": [
    {
     "data": {
      "text/plain": [
       "Istanbul     992\n",
       "Izmir         14\n",
       "Diger          3\n",
       "istanbul       3\n",
       "Mersin         2\n",
       "Mugla          1\n",
       "Manisa         1\n",
       "Kocaeli        1\n",
       "Van            1\n",
       "Erzincan       1\n",
       "Zonguldak      1\n",
       "Name: Il1, dtype: int64"
      ]
     },
     "execution_count": 88,
     "metadata": {},
     "output_type": "execute_result"
    }
   ],
   "source": [
    "column15.value_counts()"
   ]
  },
  {
   "cell_type": "markdown",
   "id": "b4756231",
   "metadata": {},
   "source": [
    "**Column 16**"
   ]
  },
  {
   "cell_type": "code",
   "execution_count": 89,
   "id": "bf54d52f",
   "metadata": {},
   "outputs": [],
   "source": [
    "column16 = data.iloc[:, 16]"
   ]
  },
  {
   "cell_type": "code",
   "execution_count": 90,
   "id": "fdcd69b4",
   "metadata": {},
   "outputs": [
    {
     "data": {
      "text/plain": [
       "Cekmekoy          399\n",
       "Umraniye           89\n",
       "Sisli              83\n",
       "Fatih              72\n",
       "Atasehir           69\n",
       "Beyoglu            43\n",
       "Sultanbeyli        25\n",
       "KuCukCekmece       18\n",
       "Kagithane          18\n",
       "Pendik             17\n",
       "BahCelievler       16\n",
       "Sancaktepe         15\n",
       "Esenyurt           14\n",
       "Sultangazi         12\n",
       "Esenler            11\n",
       "Avcilar             9\n",
       "Gaziosmanpasa       8\n",
       "Bagcilar            8\n",
       "Izmir               7\n",
       "Zeytinburnu         7\n",
       "Kartal              7\n",
       "Konak               5\n",
       "ISTANBUL DISI       4\n",
       "Uskudar             4\n",
       "Beylikduzu          4\n",
       "BuyukCekmece        4\n",
       "Eyup                4\n",
       "Kadikoy             4\n",
       "Maltepe             4\n",
       "Sile                3\n",
       "Gebze               3\n",
       "Sariyer             3\n",
       "Basaksehir          2\n",
       "Gungoren            2\n",
       "Tuzla               2\n",
       "Bakirkoy            2\n",
       "Mersin              2\n",
       "Sur                 1\n",
       "Salihli             1\n",
       "Asagi dudullu       1\n",
       "kadikoy             1\n",
       "Torbali             1\n",
       "Tepebasi            1\n",
       "Van                 1\n",
       "sultanbeyli         1\n",
       "Arnavutkoy          1\n",
       "Muratpasa           1\n",
       "Izmit/Koaceli       1\n",
       "Erzincan            1\n",
       "Mentese             1\n",
       "Beykoz              1\n",
       "Name: Ilce1, dtype: int64"
      ]
     },
     "execution_count": 90,
     "metadata": {},
     "output_type": "execute_result"
    }
   ],
   "source": [
    "column16.value_counts()"
   ]
  },
  {
   "cell_type": "code",
   "execution_count": 102,
   "id": "f2447727",
   "metadata": {},
   "outputs": [],
   "source": [
    "# Standardisation of capital and small letters\n",
    "column16 = column16.str.lower()\n",
    "column16 = column16.str.title()\n"
   ]
  },
  {
   "cell_type": "code",
   "execution_count": 103,
   "id": "c81ab306",
   "metadata": {},
   "outputs": [
    {
     "data": {
      "text/plain": [
       "Cekmekoy          399\n",
       "Umraniye           89\n",
       "Sisli              83\n",
       "Fatih              72\n",
       "Atasehir           69\n",
       "Beyoglu            43\n",
       "Sultanbeyli        25\n",
       "Kagithane          18\n",
       "Kucukcekmece       18\n",
       "Pendik             17\n",
       "Bahcelievler       16\n",
       "Sancaktepe         15\n",
       "Esenyurt           14\n",
       "Sultangazi         12\n",
       "Esenler            11\n",
       "Avcilar             9\n",
       "Bagcilar            8\n",
       "Gaziosmanpasa       8\n",
       "Kartal              7\n",
       "Zeytinburnu         7\n",
       "Izmir               7\n",
       "Konak               5\n",
       "Eyup                4\n",
       "Beylikduzu          4\n",
       "Uskudar             4\n",
       "Maltepe             4\n",
       "Buyukcekmece        4\n",
       "Istanbul Disi       4\n",
       "Kadikoy             4\n",
       "Sile                3\n",
       "Sariyer             3\n",
       "Gebze               3\n",
       "Gungoren            2\n",
       "Tuzla               2\n",
       "Mersin              2\n",
       "Basaksehir          2\n",
       "Bakirkoy            2\n",
       "Kadikoy             1\n",
       "Tepebasi            1\n",
       "Beykoz              1\n",
       "Van                 1\n",
       "Arnavutkoy          1\n",
       "Sultanbeyli         1\n",
       "Izmit/Koaceli       1\n",
       "Mentese             1\n",
       "Erzincan            1\n",
       "Muratpasa           1\n",
       "Asagi Dudullu       1\n",
       "Torbali             1\n",
       "Salihli             1\n",
       "Sur                 1\n",
       "Name: Ilce1, dtype: int64"
      ]
     },
     "execution_count": 103,
     "metadata": {},
     "output_type": "execute_result"
    }
   ],
   "source": [
    "column16.value_counts()"
   ]
  },
  {
   "cell_type": "code",
   "execution_count": null,
   "id": "2e2d7c0d",
   "metadata": {},
   "outputs": [],
   "source": [
    "# Removing any words after 'Okur yazar degil,'\n",
    "def func(series, to_replace, replace_with):\n",
    "for i in range(len(series)):\n",
    "    if series[i] is not np.nan:\n",
    "        if bool(re.match(to_replace, series[i])):\n",
    "            series[i] = replace_with\n",
    "    else:\n",
    "        pass"
   ]
  }
 ],
 "metadata": {
  "kernelspec": {
   "display_name": "Python 3",
   "language": "python",
   "name": "python3"
  },
  "language_info": {
   "codemirror_mode": {
    "name": "ipython",
    "version": 3
   },
   "file_extension": ".py",
   "mimetype": "text/x-python",
   "name": "python",
   "nbconvert_exporter": "python",
   "pygments_lexer": "ipython3",
   "version": "3.8.8"
  }
 },
 "nbformat": 4,
 "nbformat_minor": 5
}
